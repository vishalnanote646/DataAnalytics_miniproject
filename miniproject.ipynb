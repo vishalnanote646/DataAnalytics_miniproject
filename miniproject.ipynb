{
 "cells": [
  {
   "cell_type": "code",
   "execution_count": 1,
   "id": "eeefd0e2-b8af-4776-85b5-e66638d70d9d",
   "metadata": {},
   "outputs": [],
   "source": [
    "import pandas as pd"
   ]
  },
  {
   "cell_type": "code",
   "execution_count": 5,
   "id": "d488e030-7708-4886-bd77-6b1eb4591df7",
   "metadata": {},
   "outputs": [],
   "source": [
    "df=pd.read_csv('dataset.csv')"
   ]
  },
  {
   "cell_type": "code",
   "execution_count": 7,
   "id": "394e4428-8b59-4b0d-83f5-ffa8aa797bdd",
   "metadata": {},
   "outputs": [
    {
     "data": {
      "text/html": [
       "<div>\n",
       "<style scoped>\n",
       "    .dataframe tbody tr th:only-of-type {\n",
       "        vertical-align: middle;\n",
       "    }\n",
       "\n",
       "    .dataframe tbody tr th {\n",
       "        vertical-align: top;\n",
       "    }\n",
       "\n",
       "    .dataframe thead th {\n",
       "        text-align: right;\n",
       "    }\n",
       "</style>\n",
       "<table border=\"1\" class=\"dataframe\">\n",
       "  <thead>\n",
       "    <tr style=\"text-align: right;\">\n",
       "      <th></th>\n",
       "      <th>player</th>\n",
       "      <th>dismissal</th>\n",
       "      <th>runs</th>\n",
       "      <th>balls</th>\n",
       "      <th>minutes</th>\n",
       "      <th>4s</th>\n",
       "      <th>6s</th>\n",
       "      <th>strike_rate</th>\n",
       "      <th>team</th>\n",
       "      <th>opponent</th>\n",
       "      <th>innings</th>\n",
       "      <th>match_id</th>\n",
       "    </tr>\n",
       "  </thead>\n",
       "  <tbody>\n",
       "    <tr>\n",
       "      <th>0</th>\n",
       "      <td>Rohit Sharma</td>\n",
       "      <td>b Madushanka</td>\n",
       "      <td>4</td>\n",
       "      <td>2</td>\n",
       "      <td>2</td>\n",
       "      <td>1</td>\n",
       "      <td>0</td>\n",
       "      <td>200.00</td>\n",
       "      <td>India</td>\n",
       "      <td>Sri Lanka</td>\n",
       "      <td>1</td>\n",
       "      <td>0</td>\n",
       "    </tr>\n",
       "    <tr>\n",
       "      <th>1</th>\n",
       "      <td>Shubman Gill</td>\n",
       "      <td>c Mendis b Madushanka</td>\n",
       "      <td>92</td>\n",
       "      <td>92</td>\n",
       "      <td>136</td>\n",
       "      <td>11</td>\n",
       "      <td>2</td>\n",
       "      <td>100.00</td>\n",
       "      <td>India</td>\n",
       "      <td>Sri Lanka</td>\n",
       "      <td>1</td>\n",
       "      <td>0</td>\n",
       "    </tr>\n",
       "    <tr>\n",
       "      <th>2</th>\n",
       "      <td>Virat Kohli</td>\n",
       "      <td>c Nissanka b Madushanka</td>\n",
       "      <td>88</td>\n",
       "      <td>94</td>\n",
       "      <td>139</td>\n",
       "      <td>11</td>\n",
       "      <td>0</td>\n",
       "      <td>93.61</td>\n",
       "      <td>India</td>\n",
       "      <td>Sri Lanka</td>\n",
       "      <td>1</td>\n",
       "      <td>0</td>\n",
       "    </tr>\n",
       "    <tr>\n",
       "      <th>3</th>\n",
       "      <td>Shreyas Iyer</td>\n",
       "      <td>c Theekshana b Madushanka</td>\n",
       "      <td>82</td>\n",
       "      <td>56</td>\n",
       "      <td>84</td>\n",
       "      <td>3</td>\n",
       "      <td>6</td>\n",
       "      <td>146.42</td>\n",
       "      <td>India</td>\n",
       "      <td>Sri Lanka</td>\n",
       "      <td>1</td>\n",
       "      <td>0</td>\n",
       "    </tr>\n",
       "    <tr>\n",
       "      <th>4</th>\n",
       "      <td>KL Rahul</td>\n",
       "      <td>c Hemantha b Chameera</td>\n",
       "      <td>21</td>\n",
       "      <td>19</td>\n",
       "      <td>34</td>\n",
       "      <td>2</td>\n",
       "      <td>0</td>\n",
       "      <td>110.52</td>\n",
       "      <td>India</td>\n",
       "      <td>Sri Lanka</td>\n",
       "      <td>1</td>\n",
       "      <td>0</td>\n",
       "    </tr>\n",
       "  </tbody>\n",
       "</table>\n",
       "</div>"
      ],
      "text/plain": [
       "         player                  dismissal  runs  balls  minutes  4s  6s  \\\n",
       "0  Rohit Sharma               b Madushanka     4      2        2   1   0   \n",
       "1  Shubman Gill      c Mendis b Madushanka    92     92      136  11   2   \n",
       "2   Virat Kohli    c Nissanka b Madushanka    88     94      139  11   0   \n",
       "3  Shreyas Iyer  c Theekshana b Madushanka    82     56       84   3   6   \n",
       "4      KL Rahul      c Hemantha b Chameera    21     19       34   2   0   \n",
       "\n",
       "   strike_rate   team   opponent  innings  match_id  \n",
       "0       200.00  India  Sri Lanka        1         0  \n",
       "1       100.00  India  Sri Lanka        1         0  \n",
       "2        93.61  India  Sri Lanka        1         0  \n",
       "3       146.42  India  Sri Lanka        1         0  \n",
       "4       110.52  India  Sri Lanka        1         0  "
      ]
     },
     "execution_count": 7,
     "metadata": {},
     "output_type": "execute_result"
    }
   ],
   "source": [
    "df.head()"
   ]
  },
  {
   "cell_type": "code",
   "execution_count": 8,
   "id": "f09125e4-1d36-43e1-bd6a-4947dffd6fe3",
   "metadata": {},
   "outputs": [
    {
     "name": "stdout",
     "output_type": "stream",
     "text": [
      "                  player          dismissal  runs  balls  minutes  4s  6s  \\\n",
      "870       Iftikhar Ahmed      c Malan b Ali     3      5        8   0   0   \n",
      "871          Shadab Khan           b Rashid     4      7        4   1   0   \n",
      "872  Shaheen Shah Afridi     lbw b Atkinson    25     23       23   3   1   \n",
      "873       Mohammad Wasim            not out    16     14       33   2   1   \n",
      "874           Haris Rauf  c Stokes b Woakes    35     23       27   3   3   \n",
      "\n",
      "     strike_rate      team opponent  innings  match_id  \n",
      "870        60.00  Pakistan  England        2        47  \n",
      "871        57.14  Pakistan  England        2        47  \n",
      "872       108.69  Pakistan  England        2        47  \n",
      "873       114.28  Pakistan  England        2        47  \n",
      "874       152.17  Pakistan  England        2        47  \n"
     ]
    }
   ],
   "source": [
    "print(df.tail())"
   ]
  },
  {
   "cell_type": "code",
   "execution_count": 44,
   "id": "3665d78b-88d0-493a-a172-26fd7512a507",
   "metadata": {},
   "outputs": [
    {
     "name": "stdout",
     "output_type": "stream",
     "text": [
      "(875, 12)\n"
     ]
    }
   ],
   "source": [
    "print(df.shape)"
   ]
  },
  {
   "cell_type": "code",
   "execution_count": 10,
   "id": "8c53e3fe-68d7-46d0-b7f4-c5739b3fb891",
   "metadata": {},
   "outputs": [
    {
     "name": "stdout",
     "output_type": "stream",
     "text": [
      "player          object\n",
      "dismissal       object\n",
      "runs             int64\n",
      "balls            int64\n",
      "minutes          int64\n",
      "4s               int64\n",
      "6s               int64\n",
      "strike_rate    float64\n",
      "team            object\n",
      "opponent        object\n",
      "innings          int64\n",
      "match_id         int64\n",
      "dtype: object\n"
     ]
    }
   ],
   "source": [
    "print(df.dtypes)"
   ]
  },
  {
   "cell_type": "code",
   "execution_count": 11,
   "id": "816bf205-85f6-4048-b7f1-02bb9be2ad64",
   "metadata": {},
   "outputs": [
    {
     "name": "stdout",
     "output_type": "stream",
     "text": [
      "player         0\n",
      "dismissal      0\n",
      "runs           0\n",
      "balls          0\n",
      "minutes        0\n",
      "4s             0\n",
      "6s             0\n",
      "strike_rate    0\n",
      "team           0\n",
      "opponent       0\n",
      "innings        0\n",
      "match_id       0\n",
      "dtype: int64\n"
     ]
    }
   ],
   "source": [
    "print(df.isnull().sum())\n"
   ]
  },
  {
   "cell_type": "code",
   "execution_count": 12,
   "id": "67601846-e862-418b-b422-659175f26936",
   "metadata": {},
   "outputs": [
    {
     "name": "stdout",
     "output_type": "stream",
     "text": [
      "             runs       balls     minutes          4s          6s  \\\n",
      "count  875.000000  875.000000  875.000000  875.000000  875.000000   \n",
      "mean    26.773714   29.090286   42.259429    2.558857    0.736000   \n",
      "std     31.018840   28.579166   41.752733    3.148084    1.490633   \n",
      "min      0.000000    0.000000    1.000000    0.000000    0.000000   \n",
      "25%      5.000000    8.000000   12.000000    0.000000    0.000000   \n",
      "50%     15.000000   19.000000   27.000000    1.000000    0.000000   \n",
      "75%     39.000000   40.500000   59.000000    4.000000    1.000000   \n",
      "max    201.000000  143.000000  217.000000   21.000000   11.000000   \n",
      "\n",
      "       strike_rate     innings    match_id  \n",
      "count   875.000000  875.000000  875.000000  \n",
      "mean     82.771337    1.459429   23.186286  \n",
      "std      53.106854    0.498636   13.828329  \n",
      "min       0.000000    1.000000    0.000000  \n",
      "25%      50.000000    1.000000   11.500000  \n",
      "50%      80.430000    1.000000   23.000000  \n",
      "75%     106.660000    2.000000   35.000000  \n",
      "max     600.000000    2.000000   47.000000  \n"
     ]
    }
   ],
   "source": [
    "print(df.describe())"
   ]
  },
  {
   "cell_type": "code",
   "execution_count": 15,
   "id": "9ad90aed-44c9-45a7-997f-e5b5a6569955",
   "metadata": {},
   "outputs": [],
   "source": [
    "duplicates = df[df.duplicated()]\n",
    "df = df.drop_duplicates()\n"
   ]
  },
  {
   "cell_type": "code",
   "execution_count": 16,
   "id": "d9b9fba3-61fe-402a-ae6f-75afda6c15ba",
   "metadata": {},
   "outputs": [
    {
     "name": "stdout",
     "output_type": "stream",
     "text": [
      "player         146\n",
      "dismissal      466\n",
      "runs           124\n",
      "balls          118\n",
      "minutes        157\n",
      "4s              20\n",
      "6s              12\n",
      "strike_rate    434\n",
      "team            10\n",
      "opponent        10\n",
      "innings          2\n",
      "match_id        48\n",
      "dtype: int64\n"
     ]
    }
   ],
   "source": [
    "print(df.nunique())"
   ]
  },
  {
   "cell_type": "code",
   "execution_count": 24,
   "id": "1cf0da89-8424-41fe-a563-87aa86331caa",
   "metadata": {},
   "outputs": [],
   "source": [
    "#data cleaning \n",
    "df.fillna(df.mean(numeric_only=True), inplace=True)\n"
   ]
  },
  {
   "cell_type": "code",
   "execution_count": 25,
   "id": "a619b45a-a6f8-45e3-8342-613fd7313043",
   "metadata": {},
   "outputs": [],
   "source": [
    "df = df.dropna()"
   ]
  },
  {
   "cell_type": "code",
   "execution_count": 26,
   "id": "68591c04-2e80-46dd-9a85-85db98b2a21d",
   "metadata": {},
   "outputs": [],
   "source": [
    "df.rename(columns={'Player': 'Player_Name'}, inplace=True)"
   ]
  },
  {
   "cell_type": "code",
   "execution_count": 28,
   "id": "cdcca2a6-c765-4dc5-990f-ae6c0c7e9fd5",
   "metadata": {},
   "outputs": [],
   "source": [
    "df.replace('NA', pd.NA, inplace=True)"
   ]
  },
  {
   "cell_type": "code",
   "execution_count": 29,
   "id": "04650b9f-f695-4329-b694-0e99b1138b74",
   "metadata": {},
   "outputs": [],
   "source": [
    "if 'SR' in df.columns:\n",
    "    df['SR_Normalized'] = (df['SR'] - df['SR'].min()) / (df['SR'].max() - df['SR'].min())"
   ]
  },
  {
   "cell_type": "code",
   "execution_count": 32,
   "id": "b06618f0-aa6c-4ceb-82c4-768f16a14df9",
   "metadata": {},
   "outputs": [
    {
     "name": "stdout",
     "output_type": "stream",
     "text": [
      "Runs Column:\n",
      "0       4\n",
      "1      92\n",
      "2      88\n",
      "3      82\n",
      "4      21\n",
      "       ..\n",
      "870     3\n",
      "871     4\n",
      "872    25\n",
      "873    16\n",
      "874    35\n",
      "Name: runs, Length: 875, dtype: int64\n"
     ]
    }
   ],
   "source": [
    "#data selection and filtering\n",
    "print(\"Runs Column:\")\n",
    "print(df['runs'])"
   ]
  },
  {
   "cell_type": "code",
   "execution_count": 36,
   "id": "72496b16-c8a5-4975-9df6-36ef0ca4a6da",
   "metadata": {},
   "outputs": [
    {
     "name": "stdout",
     "output_type": "stream",
     "text": [
      "                  player  innings\n",
      "0           Rohit Sharma        1\n",
      "1           Shubman Gill        1\n",
      "2            Virat Kohli        1\n",
      "3           Shreyas Iyer        1\n",
      "4               KL Rahul        1\n",
      "..                   ...      ...\n",
      "870       Iftikhar Ahmed        2\n",
      "871          Shadab Khan        2\n",
      "872  Shaheen Shah Afridi        2\n",
      "873       Mohammad Wasim        2\n",
      "874           Haris Rauf        2\n",
      "\n",
      "[875 rows x 2 columns]\n"
     ]
    }
   ],
   "source": [
    "print(df[['player', 'innings']])"
   ]
  },
  {
   "cell_type": "code",
   "execution_count": 37,
   "id": "565724bf-70db-493d-8088-fcf1cfa6292f",
   "metadata": {},
   "outputs": [
    {
     "name": "stdout",
     "output_type": "stream",
     "text": [
      "Empty DataFrame\n",
      "Columns: [player, dismissal, runs, balls, minutes, 4s, 6s, strike_rate, team, opponent, innings, match_id]\n",
      "Index: []\n"
     ]
    }
   ],
   "source": [
    "print(df[df['runs'] > 300])"
   ]
  },
  {
   "cell_type": "code",
   "execution_count": 38,
   "id": "45c49ebb-38e3-4d23-a259-162c4ae719e7",
   "metadata": {},
   "outputs": [
    {
     "name": "stdout",
     "output_type": "stream",
     "text": [
      "Empty DataFrame\n",
      "Columns: [player, dismissal, runs, balls, minutes, 4s, 6s, strike_rate, team, opponent, innings, match_id]\n",
      "Index: []\n"
     ]
    }
   ],
   "source": [
    "print(df[df['innings'] > 5])"
   ]
  },
  {
   "cell_type": "code",
   "execution_count": 40,
   "id": "daad509b-32fd-46ff-8813-a3e21cdd22c2",
   "metadata": {},
   "outputs": [
    {
     "name": "stdout",
     "output_type": "stream",
     "text": [
      "                    player                               dismissal  runs  \\\n",
      "3             Shreyas Iyer               c Theekshana b Madushanka    82   \n",
      "52         Quinton de Kock            c Nasum Ahmed b Hasan Mahmud   174   \n",
      "56        Heinrich Klaasen            c Mahmudullah b Hasan Mahmud    90   \n",
      "57            David Miller                                 not out    34   \n",
      "92            Rohit Sharma                  c Williamson b Southee    47   \n",
      "95            Shreyas Iyer                      c Mitchell b Boult   105   \n",
      "113       Charith Asalanka       c Litton Das b Tanzim Hasan Sakib   108   \n",
      "123         Daryl Mitchell                c Kohli b Mohammed Shami   130   \n",
      "131           David Warner                          c & b Phillips    81   \n",
      "132            Travis Head                              b Phillips   109   \n",
      "138            Pat Cummins                             lbw b Boult    37   \n",
      "156       Heinrich Klaasen                              b Atkinson   109   \n",
      "158           Marco Jansen                                 not out    75   \n",
      "166           David Miller                        c Head b Cummins   101   \n",
      "238            Dawid Malan                          b Mahedi Hasan   140   \n",
      "248     Rahmanullah Gurbaz       run out (sub [DJ Willey]/Buttler)    80   \n",
      "299  Rassie van der Dussen                               b Southee   133   \n",
      "300           David Miller                    c Mitchell b Neesham    53   \n",
      "315          Glenn Maxwell                c Engelbrecht b van Beek   106   \n",
      "330        Quinton de Kock                               b Maxwell   109   \n",
      "344         Glenn Phillips           c Rashid Khan b Naveen-ul-Haq    71   \n",
      "365           David Warner        c sub (Shadab Khan) b Haris Rauf   163   \n",
      "366         Mitchell Marsh       c Usama Mir b Shaheen Shah Afridi   121   \n",
      "379             Ben Stokes                c Engelbrecht b van Beek   108   \n",
      "400           Kusal Mendis               c Imam-ul-Haq b Hasan Ali   122   \n",
      "409           Shubman Gill             c Nidamanuru b van Meekeren    51   \n",
      "411           Shreyas Iyer                                 not out   128   \n",
      "412               KL Rahul                c Engelbrecht b de Leede   102   \n",
      "426     Azmatullah Omarzai                                b Pandya    62   \n",
      "438         Iftikhar Ahmed    c Azmatullah Omarzai b Naveen-ul-Haq    40   \n",
      "496            Travis Head         c Shubman Gill b Mohammed Siraj   137   \n",
      "524            Mahmudullah                      c Jansen b Coetzee   111   \n",
      "533         Daryl Mitchell                                 not out    89   \n",
      "535           Rohit Sharma  c Iftikhar Ahmed b Shaheen Shah Afridi    86   \n",
      "550         Daryl Mitchell               c Jadeja b Mohammed Shami   134   \n",
      "572           Rohit Sharma                              b Ferguson    46   \n",
      "582        Rachin Ravindra                 c Labuschagne b Cummins   116   \n",
      "611              Mark Wood                                 not out    43   \n",
      "613           David Warner                               b Markram    29   \n",
      "623        Rachin Ravindra                                 not out   123   \n",
      "656         Mitchell Marsh                                 not out   177   \n",
      "700          Glenn Maxwell                                 not out   201   \n",
      "720         Glenn Phillips                      c Rabada b Coetzee    60   \n",
      "728           Kusal Mendis                      c Klaasen b Rabada    76   \n",
      "730       Charith Asalanka            c sub (RR Hendricks) b Ngidi    79   \n",
      "750            Virat Kohli                                 not out   103   \n",
      "814           Fakhar Zaman    c Towhid Hridoy b Mehidy Hasan Miraz    81   \n",
      "830        Teja Nidamanuru               c Mohammed Shami b Sharma    54   \n",
      "836           Fakhar Zaman                                 not out   126   \n",
      "838           Rohit Sharma                           b Rashid Khan   131   \n",
      "\n",
      "     balls  minutes  4s  6s  strike_rate          team      opponent  innings  \\\n",
      "3       56       84   3   6       146.42         India     Sri Lanka        1   \n",
      "52     140      192  15   7       124.28  South Africa    Bangladesh        1   \n",
      "56      49       94   2   8       183.67  South Africa    Bangladesh        1   \n",
      "57      15       26   1   4       226.66  South Africa    Bangladesh        1   \n",
      "92      29       40   4   4       162.06         India   New Zealand        1   \n",
      "95      70      114   4   8       150.00         India   New Zealand        1   \n",
      "113    105      159   6   5       102.85     Sri Lanka    Bangladesh        1   \n",
      "123    127      192   9   5       102.36   New Zealand         India        1   \n",
      "131     65       77   5   6       124.61     Australia   New Zealand        1   \n",
      "132     67       94  10   7       162.68     Australia   New Zealand        1   \n",
      "138     14       23   2   4       264.28     Australia   New Zealand        1   \n",
      "156     67      119  12   4       162.68  South Africa       England        1   \n",
      "158     42       72   3   6       178.57  South Africa       England        1   \n",
      "166    116      138   8   5        87.06  South Africa     Australia        1   \n",
      "238    107      106  16   5       130.84       England    Bangladesh        1   \n",
      "248     57       87   8   4       140.35   Afghanistan       England        1   \n",
      "299    118      172   9   5       112.71  South Africa   New Zealand        1   \n",
      "300     30       48   2   4       176.66  South Africa   New Zealand        1   \n",
      "315     44       53   9   8       240.90     Australia   Netherlands        1   \n",
      "330    106      147   8   5       102.83  South Africa     Australia        1   \n",
      "344     80      109   4   4        88.75   New Zealand   Afghanistan        1   \n",
      "365    124      180  14   9       131.45     Australia      Pakistan        1   \n",
      "366    108      139  10   9       112.03     Australia      Pakistan        1   \n",
      "379     84      136   6   6       128.57       England   Netherlands        1   \n",
      "400     77      124  14   6       158.44     Sri Lanka      Pakistan        1   \n",
      "409     32       49   3   4       159.37         India   Netherlands        1   \n",
      "411     94      145  10   5       136.17         India   Netherlands        1   \n",
      "412     64       98  11   4       159.37         India   Netherlands        1   \n",
      "426     69       82   2   4        89.85   Afghanistan         India        1   \n",
      "438     27       40   2   4       148.14      Pakistan   Afghanistan        1   \n",
      "496    120      166  15   4       114.16     Australia         India        2   \n",
      "524    111      150  11   4       100.00    Bangladesh  South Africa        2   \n",
      "533     67      103   6   4       132.83   New Zealand    Bangladesh        2   \n",
      "535     63       91   6   6       136.50         India      Pakistan        2   \n",
      "550    119      180   9   7       112.60   New Zealand         India        2   \n",
      "572     40       44   4   4       115.00         India   New Zealand        2   \n",
      "582     89      137   9   5       130.33   New Zealand     Australia        2   \n",
      "611     17       25   2   5       252.94       England  South Africa        2   \n",
      "613     18       29   1   4       161.11     Australia  South Africa        2   \n",
      "623     96      141  11   5       128.12   New Zealand       England        2   \n",
      "656    132      177  17   9       134.09     Australia    Bangladesh        2   \n",
      "700    128      181  21  10       157.03     Australia   Afghanistan        2   \n",
      "720     50       87   4   4       120.00   New Zealand  South Africa        2   \n",
      "728     42       55   4   8       180.95     Sri Lanka  South Africa        2   \n",
      "730     65       83   8   4       121.53     Sri Lanka  South Africa        2   \n",
      "750     97      113   6   4       106.18         India    Bangladesh        2   \n",
      "814     74      126   3   7       109.45      Pakistan    Bangladesh        2   \n",
      "830     39       65   1   6       138.46   Netherlands         India        2   \n",
      "836     81      103   8  11       155.55      Pakistan   New Zealand        2   \n",
      "838     84      111  16   5       155.95         India   Afghanistan        2   \n",
      "\n",
      "     match_id  \n",
      "3           0  \n",
      "52          5  \n",
      "56          5  \n",
      "57          5  \n",
      "92          9  \n",
      "95          9  \n",
      "113        11  \n",
      "123        12  \n",
      "131        13  \n",
      "132        13  \n",
      "138        13  \n",
      "156        15  \n",
      "158        15  \n",
      "166        16  \n",
      "238        23  \n",
      "248        24  \n",
      "299        29  \n",
      "300        29  \n",
      "315        31  \n",
      "330        33  \n",
      "344        34  \n",
      "365        37  \n",
      "366        37  \n",
      "379        38  \n",
      "400        40  \n",
      "409        41  \n",
      "411        41  \n",
      "412        41  \n",
      "426        43  \n",
      "438        44  \n",
      "496         2  \n",
      "524         5  \n",
      "533         6  \n",
      "535         7  \n",
      "550         9  \n",
      "572        12  \n",
      "582        13  \n",
      "611        15  \n",
      "613        16  \n",
      "623        17  \n",
      "656        22  \n",
      "700        27  \n",
      "720        29  \n",
      "728        30  \n",
      "730        30  \n",
      "750        32  \n",
      "814        39  \n",
      "830        41  \n",
      "836        42  \n",
      "838        43  \n"
     ]
    }
   ],
   "source": [
    "print(df[df['6s'] > 3])"
   ]
  },
  {
   "cell_type": "code",
   "execution_count": 41,
   "id": "1eb936c6-fd97-4bbb-9ad1-29ad8c8f13d6",
   "metadata": {},
   "outputs": [
    {
     "name": "stdout",
     "output_type": "stream",
     "text": [
      "                   player                          dismissal  runs  balls  \\\n",
      "0            Rohit Sharma                       b Madushanka     4      2   \n",
      "3            Shreyas Iyer          c Theekshana b Madushanka    82     56   \n",
      "5        Suryakumar Yadav              c Mendis b Madushanka    12      9   \n",
      "6         Ravindra Jadeja    run out (Samarawickrama/Mendis)    35     24   \n",
      "13           Saud Shakeel            c Saqib Zulfiqar b Dutt    68     52   \n",
      "..                    ...                                ...   ...    ...   \n",
      "832  Roelof van der Merwe          c Mohammed Shami b Jadeja    16      8   \n",
      "836          Fakhar Zaman                            not out   126     81   \n",
      "838          Rohit Sharma                      b Rashid Khan   131     84   \n",
      "842    Rahmanullah Gurbaz  c Usama Mir b Shaheen Shah Afridi    65     53   \n",
      "874            Haris Rauf                  c Stokes b Woakes    35     23   \n",
      "\n",
      "     minutes  4s  6s  strike_rate         team     opponent  innings  match_id  \n",
      "0          2   1   0       200.00        India    Sri Lanka        1         0  \n",
      "3         84   3   6       146.42        India    Sri Lanka        1         0  \n",
      "5         13   2   0       133.33        India    Sri Lanka        1         0  \n",
      "6         41   1   1       145.83        India    Sri Lanka        1         0  \n",
      "13        84   9   1       130.76     Pakistan  Netherlands        1         1  \n",
      "..       ...  ..  ..          ...          ...          ...      ...       ...  \n",
      "832        5   1   2       200.00  Netherlands        India        2        41  \n",
      "836      103   8  11       155.55     Pakistan  New Zealand        2        42  \n",
      "838      111  16   5       155.95        India  Afghanistan        2        43  \n",
      "842       91   9   1       122.64  Afghanistan     Pakistan        2        44  \n",
      "874       27   3   3       152.17     Pakistan      England        2        47  \n",
      "\n",
      "[154 rows x 12 columns]\n"
     ]
    }
   ],
   "source": [
    "print(df[df['strike_rate'] > 120])"
   ]
  },
  {
   "cell_type": "code",
   "execution_count": 42,
   "id": "ce0120c3-c8c6-4ff8-9567-9ad13b96db93",
   "metadata": {},
   "outputs": [
    {
     "name": "stdout",
     "output_type": "stream",
     "text": [
      "              player                         dismissal  runs  balls  minutes  \\\n",
      "338   Keshav Maharaj                           not out     0      2        1   \n",
      "206   Mitchell Marsh                  c Kohli b Bumrah     0      6       11   \n",
      "696      Travis Head   c Ikram Alikhil b Naveen-ul-Haq     0      2        5   \n",
      "511        Mark Wood                          b Bumrah     0      1        3   \n",
      "399     Kusal Perera     c Mohammad Rizwan b Hasan Ali     0      4        7   \n",
      "..               ...                               ...   ...    ...      ...   \n",
      "621     Devon Conway                           not out   152    121      147   \n",
      "365     David Warner  c sub (Shadab Khan) b Haris Rauf   163    124      180   \n",
      "52   Quinton de Kock      c Nasum Ahmed b Hasan Mahmud   174    140      192   \n",
      "656   Mitchell Marsh                           not out   177    132      177   \n",
      "700    Glenn Maxwell                           not out   201    128      181   \n",
      "\n",
      "     4s  6s  strike_rate          team     opponent  innings  match_id  \n",
      "338   0   0         0.00  South Africa    Australia        1        33  \n",
      "206   0   0         0.00     Australia        India        1        20  \n",
      "696   0   0         0.00     Australia  Afghanistan        2        27  \n",
      "511   0   0         0.00       England        India        2         3  \n",
      "399   0   0         0.00     Sri Lanka     Pakistan        1        40  \n",
      "..   ..  ..          ...           ...          ...      ...       ...  \n",
      "621  19   3       125.61   New Zealand      England        2        17  \n",
      "365  14   9       131.45     Australia     Pakistan        1        37  \n",
      "52   15   7       124.28  South Africa   Bangladesh        1         5  \n",
      "656  17   9       134.09     Australia   Bangladesh        2        22  \n",
      "700  21  10       157.03     Australia  Afghanistan        2        27  \n",
      "\n",
      "[875 rows x 12 columns]\n"
     ]
    }
   ],
   "source": [
    "#Section 4: Sorting and Ordering\n",
    "print(df.sort_values('runs'))"
   ]
  },
  {
   "cell_type": "code",
   "execution_count": 43,
   "id": "bddb7577-04ef-4461-8f2c-f71d844fa79a",
   "metadata": {},
   "outputs": [
    {
     "name": "stdout",
     "output_type": "stream",
     "text": [
      "                player                             dismissal  runs  balls  \\\n",
      "818  Abdullah Shafique     c sub (MADI Hemantha) b Pathirana   113    103   \n",
      "791  Abdullah Shafique                   c Maxwell b Stoinis    64     61   \n",
      "286  Abdullah Shafique                      c Ngidi b Jansen     9     17   \n",
      "813  Abdullah Shafique              lbw b Mehidy Hasan Miraz    68     69   \n",
      "432  Abdullah Shafique                      lbw b Noor Ahmad    58     75   \n",
      "..                 ...                                   ...   ...    ...   \n",
      "716         Will Young                   c de Kock b Coetzee    33     37   \n",
      "271         Will Young             c de Leede b van Meekeren    70     80   \n",
      "622         Will Young                    c Buttler b Curran     0      1   \n",
      "581         Will Young                   c Starc b Hazlewood    32     37   \n",
      "340         Will Young  c Ikram Alikhil b Azmatullah Omarzai    54     64   \n",
      "\n",
      "     minutes  4s  6s  strike_rate         team      opponent  innings  \\\n",
      "818      150  10   3       109.70     Pakistan     Sri Lanka        2   \n",
      "791       93   7   2       104.91     Pakistan     Australia        2   \n",
      "286       21   1   0        52.94     Pakistan  South Africa        1   \n",
      "813       94   9   2        98.55     Pakistan    Bangladesh        2   \n",
      "432       89   5   2        77.33     Pakistan   Afghanistan        1   \n",
      "..       ...  ..  ..          ...          ...           ...      ...   \n",
      "716       50   5   0        89.18  New Zealand  South Africa        2   \n",
      "271      106   7   2        87.50  New Zealand   Netherlands        1   \n",
      "622        5   0   0         0.00  New Zealand       England        2   \n",
      "581       44   4   1        86.48  New Zealand     Australia        2   \n",
      "340       98   4   3        84.37  New Zealand   Afghanistan        1   \n",
      "\n",
      "     match_id  \n",
      "818        40  \n",
      "791        37  \n",
      "286        28  \n",
      "813        39  \n",
      "432        44  \n",
      "..        ...  \n",
      "716        29  \n",
      "271        26  \n",
      "622        17  \n",
      "581        13  \n",
      "340        34  \n",
      "\n",
      "[875 rows x 12 columns]\n"
     ]
    }
   ],
   "source": [
    "print(df.sort_values('player'))"
   ]
  },
  {
   "cell_type": "code",
   "execution_count": 45,
   "id": "0d076a27-7743-44c8-8be9-598c19b849f3",
   "metadata": {},
   "outputs": [
    {
     "name": "stdout",
     "output_type": "stream",
     "text": [
      "                 player                           dismissal  runs  balls  \\\n",
      "302       Aiden Markram                             not out     6      1   \n",
      "470        David Willey   c Iftikhar Ahmed b Mohammad Wasim    15      5   \n",
      "384        David Willey            c Engelbrecht b de Leede     6      2   \n",
      "138         Pat Cummins                         lbw b Boult    37     14   \n",
      "151          Aryan Dutt                             not out    23      9   \n",
      "..                  ...                                 ...   ...    ...   \n",
      "723       James Neesham                           b Maharaj     0      8   \n",
      "338      Keshav Maharaj                             not out     0      2   \n",
      "357  Dilshan Madushanka                             not out     0      4   \n",
      "367       Glenn Maxwell  c Babar Azam b Shaheen Shah Afridi     0      1   \n",
      "474  Dimuth Karunaratne                lbw b Mohammed Siraj     0      1   \n",
      "\n",
      "     minutes  4s  6s  strike_rate          team      opponent  innings  \\\n",
      "302        1   0   1       600.00  South Africa   New Zealand        1   \n",
      "470        5   2   1       300.00       England      Pakistan        1   \n",
      "384        1   0   1       300.00       England   Netherlands        1   \n",
      "138       23   2   4       264.28     Australia   New Zealand        1   \n",
      "151       14   0   3       255.55   Netherlands  South Africa        1   \n",
      "..       ...  ..  ..          ...           ...           ...      ...   \n",
      "723        6   0   0         0.00   New Zealand  South Africa        2   \n",
      "338        1   0   0         0.00  South Africa     Australia        1   \n",
      "357        5   0   0         0.00     Sri Lanka   Afghanistan        1   \n",
      "367        1   0   0         0.00     Australia      Pakistan        1   \n",
      "474       10   0   0         0.00     Sri Lanka         India        2   \n",
      "\n",
      "     match_id  \n",
      "302        29  \n",
      "470        47  \n",
      "384        38  \n",
      "138        13  \n",
      "151        14  \n",
      "..        ...  \n",
      "723        29  \n",
      "338        33  \n",
      "357        35  \n",
      "367        37  \n",
      "474         0  \n",
      "\n",
      "[875 rows x 12 columns]\n"
     ]
    }
   ],
   "source": [
    "print(df.sort_values('strike_rate', ascending=False))"
   ]
  },
  {
   "cell_type": "code",
   "execution_count": 46,
   "id": "5e74e39a-301f-4c8f-b99c-6549f89c0a42",
   "metadata": {},
   "outputs": [
    {
     "name": "stdout",
     "output_type": "stream",
     "text": [
      "                     player                          dismissal  runs  balls  \\\n",
      "203           Naveen-ul-Haq   c Towhid Hridoy b Shoriful Islam     0      6   \n",
      "204        Fazalhaq Farooqi                            not out     0      3   \n",
      "773           Naveen-ul-Haq                c Chapman b Santner     0      1   \n",
      "774        Fazalhaq Farooqi               c Mitchell b Santner     0      2   \n",
      "775      Rahmanullah Gurbaz                       b Madushanka     0      4   \n",
      "..                      ...                                ...   ...    ...   \n",
      "730        Charith Asalanka       c sub (RR Hendricks) b Ngidi    79     65   \n",
      "515  Sadeera Samarawickrama                            not out    91    107   \n",
      "113        Charith Asalanka  c Litton Das b Tanzim Hasan Sakib   108    105   \n",
      "401  Sadeera Samarawickrama      c Mohammad Rizwan b Hasan Ali   108     89   \n",
      "400            Kusal Mendis          c Imam-ul-Haq b Hasan Ali   122     77   \n",
      "\n",
      "     minutes  4s  6s  strike_rate         team      opponent  innings  \\\n",
      "203        8   0   0         0.00  Afghanistan    Bangladesh        1   \n",
      "204        3   0   0         0.00  Afghanistan    Bangladesh        1   \n",
      "773        1   0   0         0.00  Afghanistan   New Zealand        2   \n",
      "774        1   0   0         0.00  Afghanistan   New Zealand        2   \n",
      "775        2   0   0         0.00  Afghanistan     Sri Lanka        2   \n",
      "..       ...  ..  ..          ...          ...           ...      ...   \n",
      "730       83   8   4       121.53    Sri Lanka  South Africa        2   \n",
      "515      168   7   0        85.04    Sri Lanka   Netherlands        2   \n",
      "113      159   6   5       102.85    Sri Lanka    Bangladesh        1   \n",
      "401      139  11   2       121.34    Sri Lanka      Pakistan        1   \n",
      "400      124  14   6       158.44    Sri Lanka      Pakistan        1   \n",
      "\n",
      "     match_id  \n",
      "203        19  \n",
      "204        19  \n",
      "773        34  \n",
      "774        34  \n",
      "775        35  \n",
      "..        ...  \n",
      "730        30  \n",
      "515         4  \n",
      "113        11  \n",
      "401        40  \n",
      "400        40  \n",
      "\n",
      "[875 rows x 12 columns]\n"
     ]
    }
   ],
   "source": [
    "print(df.sort_values(['team', 'runs']))\n"
   ]
  },
  {
   "cell_type": "code",
   "execution_count": 47,
   "id": "b82e14fa-13e5-4546-a7cd-041cd8bafc73",
   "metadata": {},
   "outputs": [
    {
     "name": "stdout",
     "output_type": "stream",
     "text": [
      "             player  dismissal  runs  balls  minutes  4s  6s  strike_rate  \\\n",
      "863  Shoriful Islam    not out     0      0        1   0   0          0.0   \n",
      "141  Josh Hazlewood    not out     0      0        1   0   0          0.0   \n",
      "114  Angelo Mathews  timed out     0      0        4   0   0          0.0   \n",
      "\n",
      "           team     opponent  innings  match_id  \n",
      "863  Bangladesh  Netherlands        2        46  \n",
      "141   Australia  New Zealand        1        13  \n",
      "114   Sri Lanka   Bangladesh        1        11  \n"
     ]
    }
   ],
   "source": [
    "print(df.sort_values('balls').head(3))"
   ]
  },
  {
   "cell_type": "code",
   "execution_count": 48,
   "id": "7f77df6e-65a7-4a4b-bbd3-d0e328cf93aa",
   "metadata": {},
   "outputs": [],
   "source": [
    "#renaming columns\n",
    "df.rename(columns={'team': 'country'}, inplace=True)"
   ]
  },
  {
   "cell_type": "code",
   "execution_count": 49,
   "id": "d1d497b8-526a-4872-9318-e257b0f853a6",
   "metadata": {},
   "outputs": [],
   "source": [
    "df.rename(columns={'innings': 'batting_innings'}, inplace=True)"
   ]
  },
  {
   "cell_type": "code",
   "execution_count": 50,
   "id": "6153deb9-cc73-479b-8ba9-7ac50ca7265b",
   "metadata": {},
   "outputs": [],
   "source": [
    "df.rename(columns={\n",
    "    'player': 'batsman_name',\n",
    "    'opponent': 'opposition_team'\n",
    "}, inplace=True)"
   ]
  },
  {
   "cell_type": "code",
   "execution_count": 51,
   "id": "06ca2102-6ea1-419e-b697-f8987718bdb0",
   "metadata": {},
   "outputs": [],
   "source": [
    "df.rename(columns={'strike_rate': 'SR'}, inplace=True)"
   ]
  },
  {
   "cell_type": "code",
   "execution_count": 52,
   "id": "e6386efd-1c73-4daf-81c5-a30646a21dad",
   "metadata": {},
   "outputs": [
    {
     "name": "stdout",
     "output_type": "stream",
     "text": [
      "\n",
      "Updated column names:\n",
      "Index(['batsman_name', 'dismissal', 'runs', 'balls', 'minutes', '4s', '6s',\n",
      "       'SR', 'country', 'opposition_team', 'batting_innings', 'match_id'],\n",
      "      dtype='object')\n"
     ]
    }
   ],
   "source": [
    "print(\"\\nUpdated column names:\")\n",
    "print(df.columns)"
   ]
  },
  {
   "cell_type": "code",
   "execution_count": 54,
   "id": "a6c1c960-2173-407d-910c-a7d3a5ca4804",
   "metadata": {},
   "outputs": [
    {
     "name": "stdout",
     "output_type": "stream",
     "text": [
      "Average Runs: 26.773714285714284\n"
     ]
    }
   ],
   "source": [
    "#aggrigation values\n",
    "print(\"Average Runs:\", df['runs'].mean())"
   ]
  },
  {
   "cell_type": "code",
   "execution_count": 55,
   "id": "e0a734f6-8dc5-4a2d-85fa-c2a19ad94be3",
   "metadata": {},
   "outputs": [
    {
     "name": "stdout",
     "output_type": "stream",
     "text": [
      "Total Balls Faced: 25454\n"
     ]
    }
   ],
   "source": [
    "print(\"Total Balls Faced:\", df['balls'].sum())"
   ]
  },
  {
   "cell_type": "code",
   "execution_count": 56,
   "id": "9ddf23d0-91f9-407c-8efc-afccd91ec65d",
   "metadata": {},
   "outputs": [
    {
     "name": "stdout",
     "output_type": "stream",
     "text": [
      "country\n",
      "Australia       100\n",
      "Netherlands      98\n",
      "England          98\n",
      "Bangladesh       90\n",
      "South Africa     89\n",
      "Sri Lanka        87\n",
      "New Zealand      84\n",
      "India            77\n",
      "Pakistan         77\n",
      "Afghanistan      75\n",
      "Name: count, dtype: int64\n"
     ]
    }
   ],
   "source": [
    "print(df['country'].value_counts())\n"
   ]
  },
  {
   "cell_type": "code",
   "execution_count": 57,
   "id": "081482c3-d04f-4219-93ee-a2b19cc95c7d",
   "metadata": {},
   "outputs": [
    {
     "name": "stdout",
     "output_type": "stream",
     "text": [
      "country\n",
      "Afghanistan     1990\n",
      "Australia       2945\n",
      "Bangladesh      1944\n",
      "England         2135\n",
      "India           3038\n",
      "Netherlands     1728\n",
      "New Zealand     2712\n",
      "Pakistan        2220\n",
      "South Africa    2773\n",
      "Sri Lanka       1942\n",
      "Name: runs, dtype: int64\n"
     ]
    }
   ],
   "source": [
    "print(df.groupby('country')['runs'].sum())"
   ]
  },
  {
   "cell_type": "code",
   "execution_count": 58,
   "id": "6cd39df4-ecda-4c8a-a666-d05cc175149e",
   "metadata": {},
   "outputs": [
    {
     "name": "stdout",
     "output_type": "stream",
     "text": [
      "Maximum 6s hit by any player in a match: 11\n"
     ]
    }
   ],
   "source": [
    "print(\"Maximum 6s hit by any player in a match:\", df['6s'].max())\n"
   ]
  },
  {
   "cell_type": "code",
   "execution_count": 59,
   "id": "a6d91431-eae9-436d-b39c-384fc0e42c3f",
   "metadata": {},
   "outputs": [],
   "source": [
    "#Basic String Manipulation\n",
    "df['country'] = df['country'].str.lower()"
   ]
  },
  {
   "cell_type": "code",
   "execution_count": 60,
   "id": "0683d485-7234-4ad5-903b-edef7e759d40",
   "metadata": {},
   "outputs": [],
   "source": [
    "df['batsman_name_3char'] = df['batsman_name'].str[:3]"
   ]
  },
  {
   "cell_type": "code",
   "execution_count": 62,
   "id": "377bacec-943d-4fd5-817e-44cd380c0057",
   "metadata": {},
   "outputs": [],
   "source": [
    "split_names = df['batsman_name'].str.split(' ', n=1, expand=True)\n",
    "\n",
    "# Assign to new columns\n",
    "df['first_name'] = split_names[0]\n",
    "df['last_name'] = split_names[1].fillna('')"
   ]
  },
  {
   "cell_type": "code",
   "execution_count": 63,
   "id": "aeb11b37-9387-4642-a2a7-0fc8b2a9fdb9",
   "metadata": {},
   "outputs": [],
   "source": [
    "df['full_name'] = df['first_name'] + ' ' + df['last_name']"
   ]
  },
  {
   "cell_type": "code",
   "execution_count": 64,
   "id": "f02f41f5-6972-487a-b142-62e225b5997a",
   "metadata": {},
   "outputs": [],
   "source": [
    "df['country'] = df['country'].str.replace(' ', '_')"
   ]
  },
  {
   "cell_type": "code",
   "execution_count": 65,
   "id": "23bb13ef-c07d-4ece-93a5-83512a4a495d",
   "metadata": {},
   "outputs": [
    {
     "data": {
      "text/html": [
       "<div>\n",
       "<style scoped>\n",
       "    .dataframe tbody tr th:only-of-type {\n",
       "        vertical-align: middle;\n",
       "    }\n",
       "\n",
       "    .dataframe tbody tr th {\n",
       "        vertical-align: top;\n",
       "    }\n",
       "\n",
       "    .dataframe thead th {\n",
       "        text-align: right;\n",
       "    }\n",
       "</style>\n",
       "<table border=\"1\" class=\"dataframe\">\n",
       "  <thead>\n",
       "    <tr style=\"text-align: right;\">\n",
       "      <th></th>\n",
       "      <th>batsman_name</th>\n",
       "      <th>batsman_name_3char</th>\n",
       "      <th>first_name</th>\n",
       "      <th>last_name</th>\n",
       "      <th>full_name</th>\n",
       "      <th>country</th>\n",
       "    </tr>\n",
       "  </thead>\n",
       "  <tbody>\n",
       "    <tr>\n",
       "      <th>0</th>\n",
       "      <td>Rohit Sharma</td>\n",
       "      <td>Roh</td>\n",
       "      <td>Rohit</td>\n",
       "      <td>Sharma</td>\n",
       "      <td>Rohit Sharma</td>\n",
       "      <td>india</td>\n",
       "    </tr>\n",
       "    <tr>\n",
       "      <th>1</th>\n",
       "      <td>Shubman Gill</td>\n",
       "      <td>Shu</td>\n",
       "      <td>Shubman</td>\n",
       "      <td>Gill</td>\n",
       "      <td>Shubman Gill</td>\n",
       "      <td>india</td>\n",
       "    </tr>\n",
       "    <tr>\n",
       "      <th>2</th>\n",
       "      <td>Virat Kohli</td>\n",
       "      <td>Vir</td>\n",
       "      <td>Virat</td>\n",
       "      <td>Kohli</td>\n",
       "      <td>Virat Kohli</td>\n",
       "      <td>india</td>\n",
       "    </tr>\n",
       "    <tr>\n",
       "      <th>3</th>\n",
       "      <td>Shreyas Iyer</td>\n",
       "      <td>Shr</td>\n",
       "      <td>Shreyas</td>\n",
       "      <td>Iyer</td>\n",
       "      <td>Shreyas Iyer</td>\n",
       "      <td>india</td>\n",
       "    </tr>\n",
       "    <tr>\n",
       "      <th>4</th>\n",
       "      <td>KL Rahul</td>\n",
       "      <td>KL</td>\n",
       "      <td>KL</td>\n",
       "      <td>Rahul</td>\n",
       "      <td>KL Rahul</td>\n",
       "      <td>india</td>\n",
       "    </tr>\n",
       "  </tbody>\n",
       "</table>\n",
       "</div>"
      ],
      "text/plain": [
       "   batsman_name batsman_name_3char first_name last_name     full_name country\n",
       "0  Rohit Sharma                Roh      Rohit    Sharma  Rohit Sharma   india\n",
       "1  Shubman Gill                Shu    Shubman      Gill  Shubman Gill   india\n",
       "2   Virat Kohli                Vir      Virat     Kohli   Virat Kohli   india\n",
       "3  Shreyas Iyer                Shr    Shreyas      Iyer  Shreyas Iyer   india\n",
       "4      KL Rahul                KL          KL     Rahul      KL Rahul   india"
      ]
     },
     "execution_count": 65,
     "metadata": {},
     "output_type": "execute_result"
    }
   ],
   "source": [
    "df[['batsman_name', 'batsman_name_3char', 'first_name', 'last_name', 'full_name', 'country']].head()\n"
   ]
  },
  {
   "cell_type": "code",
   "execution_count": 66,
   "id": "28eef9d8-d8de-4963-8264-7f4d25057800",
   "metadata": {},
   "outputs": [
    {
     "name": "stdout",
     "output_type": "stream",
     "text": [
      "batsman_name          Rohit Sharma\n",
      "dismissal             b Madushanka\n",
      "runs                             4\n",
      "balls                            2\n",
      "minutes                          2\n",
      "4s                               1\n",
      "6s                               0\n",
      "SR                           200.0\n",
      "country                      india\n",
      "opposition_team          Sri Lanka\n",
      "batting_innings                  1\n",
      "match_id                         0\n",
      "batsman_name_3char             Roh\n",
      "first_name                   Rohit\n",
      "last_name                   Sharma\n",
      "full_name             Rohit Sharma\n",
      "Name: 0, dtype: object\n"
     ]
    }
   ],
   "source": [
    "#iloc – Integer-Location Based Indexing\n",
    "print(df.iloc[0])"
   ]
  },
  {
   "cell_type": "code",
   "execution_count": 67,
   "id": "57c26a05-86b6-4f39-b3f8-13ecbdfc651f",
   "metadata": {},
   "outputs": [
    {
     "name": "stdout",
     "output_type": "stream",
     "text": [
      "            batsman_name          dismissal  runs  balls  minutes  4s  6s  \\\n",
      "872  Shaheen Shah Afridi     lbw b Atkinson    25     23       23   3   1   \n",
      "873       Mohammad Wasim            not out    16     14       33   2   1   \n",
      "874           Haris Rauf  c Stokes b Woakes    35     23       27   3   3   \n",
      "\n",
      "         SR   country opposition_team  batting_innings  match_id  \\\n",
      "872  108.69  pakistan         England                2        47   \n",
      "873  114.28  pakistan         England                2        47   \n",
      "874  152.17  pakistan         England                2        47   \n",
      "\n",
      "    batsman_name_3char first_name    last_name            full_name  \n",
      "872                Sha    Shaheen  Shah Afridi  Shaheen Shah Afridi  \n",
      "873                Moh   Mohammad        Wasim       Mohammad Wasim  \n",
      "874                Har      Haris         Rauf           Haris Rauf  \n"
     ]
    }
   ],
   "source": [
    "print(df.iloc[-3:])"
   ]
  },
  {
   "cell_type": "code",
   "execution_count": 68,
   "id": "c1c2d0c2-1c03-4bab-af2b-5d89c8d1fed3",
   "metadata": {},
   "outputs": [
    {
     "name": "stdout",
     "output_type": "stream",
     "text": [
      "   batsman_name                  dismissal  runs\n",
      "0  Rohit Sharma               b Madushanka     4\n",
      "1  Shubman Gill      c Mendis b Madushanka    92\n",
      "2   Virat Kohli    c Nissanka b Madushanka    88\n",
      "3  Shreyas Iyer  c Theekshana b Madushanka    82\n",
      "4      KL Rahul      c Hemantha b Chameera    21\n"
     ]
    }
   ],
   "source": [
    "print(df.iloc[:5, :3])"
   ]
  },
  {
   "cell_type": "code",
   "execution_count": 69,
   "id": "9cf6ded2-397c-41e7-8c38-b654481a690c",
   "metadata": {},
   "outputs": [
    {
     "name": "stdout",
     "output_type": "stream",
     "text": [
      "                     dismissal  runs\n",
      "0                 b Madushanka     4\n",
      "1        c Mendis b Madushanka    92\n",
      "2      c Nissanka b Madushanka    88\n",
      "3    c Theekshana b Madushanka    82\n",
      "4        c Hemantha b Chameera    21\n",
      "..                         ...   ...\n",
      "870              c Malan b Ali     3\n",
      "871                   b Rashid     4\n",
      "872             lbw b Atkinson    25\n",
      "873                    not out    16\n",
      "874          c Stokes b Woakes    35\n",
      "\n",
      "[875 rows x 2 columns]\n"
     ]
    }
   ],
   "source": [
    "print(df.iloc[:, [1, 2]])"
   ]
  },
  {
   "cell_type": "code",
   "execution_count": 70,
   "id": "cb60900d-ab76-42ed-b20a-b789a3bbc612",
   "metadata": {},
   "outputs": [
    {
     "name": "stdout",
     "output_type": "stream",
     "text": [
      "c Theekshana b Madushanka\n"
     ]
    }
   ],
   "source": [
    "print(df.iloc[3, 1])"
   ]
  },
  {
   "cell_type": "code",
   "execution_count": 71,
   "id": "e86e6747-1dc7-449c-9c66-4563d23ac633",
   "metadata": {},
   "outputs": [
    {
     "name": "stdout",
     "output_type": "stream",
     "text": [
      "    batsman_name                     dismissal  runs  balls  minutes  4s  6s  \\\n",
      "2    Virat Kohli       c Nissanka b Madushanka    88     94      139  11   0   \n",
      "22   Virat Kohli                     b Cummins    54     63       99   4   0   \n",
      "33   Virat Kohli             c Stokes b Willey     0      9       12   0   0   \n",
      "94   Virat Kohli            c Conway b Southee   117    113      149   9   2   \n",
      "360  Virat Kohli                       not out   101    121      195  10   0   \n",
      "410  Virat Kohli               b van der Merwe    51     56       69   5   1   \n",
      "537  Virat Kohli  c Mohammad Nawaz b Hasan Ali    16     18       31   3   0   \n",
      "574  Virat Kohli            c Phillips b Henry    95    104      154   8   2   \n",
      "639  Virat Kohli     c Labuschagne b Hazlewood    85    116      171   6   0   \n",
      "750  Virat Kohli                       not out   103     97      113   6   4   \n",
      "840  Virat Kohli                       not out    55     56       64   6   0   \n",
      "\n",
      "         SR country opposition_team  batting_innings  match_id  \\\n",
      "2     93.61   india       Sri Lanka                1         0   \n",
      "22    85.71   india       Australia                1         2   \n",
      "33     0.00   india         England                1         3   \n",
      "94   103.53   india     New Zealand                1         9   \n",
      "360   83.47   india    South Africa                1        36   \n",
      "410   91.07   india     Netherlands                1        41   \n",
      "537   88.88   india        Pakistan                2         7   \n",
      "574   91.34   india     New Zealand                2        12   \n",
      "639   73.27   india       Australia                2        20   \n",
      "750  106.18   india      Bangladesh                2        32   \n",
      "840   98.21   india     Afghanistan                2        43   \n",
      "\n",
      "    batsman_name_3char first_name last_name    full_name  \n",
      "2                  Vir      Virat     Kohli  Virat Kohli  \n",
      "22                 Vir      Virat     Kohli  Virat Kohli  \n",
      "33                 Vir      Virat     Kohli  Virat Kohli  \n",
      "94                 Vir      Virat     Kohli  Virat Kohli  \n",
      "360                Vir      Virat     Kohli  Virat Kohli  \n",
      "410                Vir      Virat     Kohli  Virat Kohli  \n",
      "537                Vir      Virat     Kohli  Virat Kohli  \n",
      "574                Vir      Virat     Kohli  Virat Kohli  \n",
      "639                Vir      Virat     Kohli  Virat Kohli  \n",
      "750                Vir      Virat     Kohli  Virat Kohli  \n",
      "840                Vir      Virat     Kohli  Virat Kohli  \n"
     ]
    }
   ],
   "source": [
    "#loc – Label-Based Indexing\n",
    "print(df.loc[df['batsman_name'] == 'Virat Kohli'])"
   ]
  },
  {
   "cell_type": "code",
   "execution_count": 72,
   "id": "659de9b8-9c51-4416-ae09-6ad13a8346f2",
   "metadata": {},
   "outputs": [
    {
     "name": "stdout",
     "output_type": "stream",
     "text": [
      "              batsman_name                          dismissal  runs  balls  \\\n",
      "1             Shubman Gill              c Mendis b Madushanka    92     92   \n",
      "2              Virat Kohli            c Nissanka b Madushanka    88     94   \n",
      "3             Shreyas Iyer          c Theekshana b Madushanka    82     56   \n",
      "12         Mohammad Rizwan                         b de Leede    68     75   \n",
      "13            Saud Shakeel            c Saqib Zulfiqar b Dutt    68     52   \n",
      "..                     ...                                ...   ...    ...   \n",
      "842     Rahmanullah Gurbaz  c Usama Mir b Shaheen Shah Afridi    65     53   \n",
      "843         Ibrahim Zadran      c Mohammad Rizwan b Hasan Ali    87    113   \n",
      "844            Rahmat Shah                            not out    77     84   \n",
      "848  Rassie van der Dussen                            not out    76     95   \n",
      "869            Agha Salman                  c Stokes b Willey    51     45   \n",
      "\n",
      "     minutes  4s  6s      SR       country opposition_team  batting_innings  \\\n",
      "1        136  11   2  100.00         india       Sri Lanka                1   \n",
      "2        139  11   0   93.61         india       Sri Lanka                1   \n",
      "3         84   3   6  146.42         india       Sri Lanka                1   \n",
      "12       104   8   0   90.66      pakistan     Netherlands                1   \n",
      "13        84   9   1  130.76      pakistan     Netherlands                1   \n",
      "..       ...  ..  ..     ...           ...             ...              ...   \n",
      "842       91   9   1  122.64   afghanistan        Pakistan                2   \n",
      "843      146  10   0   76.99   afghanistan        Pakistan                2   \n",
      "844      129   5   2   91.66   afghanistan        Pakistan                2   \n",
      "848      141   6   1   80.00  south_africa     Afghanistan                2   \n",
      "869       53   6   1  113.33      pakistan         England                2   \n",
      "\n",
      "     match_id batsman_name_3char   first_name       last_name  \\\n",
      "1           0                Shu      Shubman            Gill   \n",
      "2           0                Vir        Virat           Kohli   \n",
      "3           0                Shr      Shreyas            Iyer   \n",
      "12          1                Moh     Mohammad          Rizwan   \n",
      "13          1                Sau         Saud         Shakeel   \n",
      "..        ...                ...          ...             ...   \n",
      "842        44                Rah  Rahmanullah          Gurbaz   \n",
      "843        44                Ibr      Ibrahim          Zadran   \n",
      "844        44                Rah       Rahmat            Shah   \n",
      "848        45                Ras       Rassie  van der Dussen   \n",
      "869        47                Agh         Agha          Salman   \n",
      "\n",
      "                 full_name  \n",
      "1             Shubman Gill  \n",
      "2              Virat Kohli  \n",
      "3             Shreyas Iyer  \n",
      "12         Mohammad Rizwan  \n",
      "13            Saud Shakeel  \n",
      "..                     ...  \n",
      "842     Rahmanullah Gurbaz  \n",
      "843         Ibrahim Zadran  \n",
      "844            Rahmat Shah  \n",
      "848  Rassie van der Dussen  \n",
      "869            Agha Salman  \n",
      "\n",
      "[156 rows x 16 columns]\n"
     ]
    }
   ],
   "source": [
    "print(df.loc[df['runs'] > 50])"
   ]
  },
  {
   "cell_type": "code",
   "execution_count": 73,
   "id": "0f5daf72-6038-4d9c-bf75-1c58e0e80f0c",
   "metadata": {},
   "outputs": [
    {
     "name": "stdout",
     "output_type": "stream",
     "text": [
      "6           india\n",
      "12       pakistan\n",
      "13       pakistan\n",
      "15       pakistan\n",
      "16       pakistan\n",
      "          ...    \n",
      "855    bangladesh\n",
      "866      pakistan\n",
      "867      pakistan\n",
      "869      pakistan\n",
      "874      pakistan\n",
      "Name: country, Length: 190, dtype: object\n"
     ]
    }
   ],
   "source": [
    "print(df.loc[df['runs'].between(30, 70), 'country'])"
   ]
  },
  {
   "cell_type": "code",
   "execution_count": 74,
   "id": "a4fcfa91-f47f-4866-acc5-9c166a1e717f",
   "metadata": {},
   "outputs": [
    {
     "name": "stdout",
     "output_type": "stream",
     "text": [
      "     batsman_name                       dismissal  runs  balls  minutes  4s  \\\n",
      "0    Rohit Sharma                    b Madushanka     4      2        2   1   \n",
      "1    Shubman Gill           c Mendis b Madushanka    92     92      136  11   \n",
      "2     Virat Kohli         c Nissanka b Madushanka    88     94      139  11   \n",
      "3    Shreyas Iyer       c Theekshana b Madushanka    82     56       84   3   \n",
      "4        KL Rahul           c Hemantha b Chameera    21     19       34   2   \n",
      "..            ...                             ...   ...    ...      ...  ..   \n",
      "752      KL Rahul                         not out    34     34       44   3   \n",
      "838  Rohit Sharma                   b Rashid Khan   131     84      111  16   \n",
      "839  Ishan Kishan  c Ibrahim Zadran b Rashid Khan    47     47       78   5   \n",
      "840   Virat Kohli                         not out    55     56       64   6   \n",
      "841  Shreyas Iyer                         not out    25     23       31   1   \n",
      "\n",
      "     6s      SR country opposition_team  batting_innings  match_id  \\\n",
      "0     0  200.00   india       Sri Lanka                1         0   \n",
      "1     2  100.00   india       Sri Lanka                1         0   \n",
      "2     0   93.61   india       Sri Lanka                1         0   \n",
      "3     6  146.42   india       Sri Lanka                1         0   \n",
      "4     0  110.52   india       Sri Lanka                1         0   \n",
      "..   ..     ...     ...             ...              ...       ...   \n",
      "752   1  100.00   india      Bangladesh                2        32   \n",
      "838   5  155.95   india     Afghanistan                2        43   \n",
      "839   2  100.00   india     Afghanistan                2        43   \n",
      "840   0   98.21   india     Afghanistan                2        43   \n",
      "841   1  108.69   india     Afghanistan                2        43   \n",
      "\n",
      "    batsman_name_3char first_name last_name     full_name  \n",
      "0                  Roh      Rohit    Sharma  Rohit Sharma  \n",
      "1                  Shu    Shubman      Gill  Shubman Gill  \n",
      "2                  Vir      Virat     Kohli   Virat Kohli  \n",
      "3                  Shr    Shreyas      Iyer  Shreyas Iyer  \n",
      "4                  KL          KL     Rahul      KL Rahul  \n",
      "..                 ...        ...       ...           ...  \n",
      "752                KL          KL     Rahul      KL Rahul  \n",
      "838                Roh      Rohit    Sharma  Rohit Sharma  \n",
      "839                Ish      Ishan    Kishan  Ishan Kishan  \n",
      "840                Vir      Virat     Kohli   Virat Kohli  \n",
      "841                Shr    Shreyas      Iyer  Shreyas Iyer  \n",
      "\n",
      "[77 rows x 16 columns]\n"
     ]
    }
   ],
   "source": [
    "print(df.loc[df['country'] == 'india'])"
   ]
  },
  {
   "cell_type": "code",
   "execution_count": 75,
   "id": "f8a000d7-68ab-47f5-9135-a2392c8f70f3",
   "metadata": {},
   "outputs": [
    {
     "name": "stdout",
     "output_type": "stream",
     "text": [
      "batsman_name    Virat Kohli\n",
      "runs                     88\n",
      "Name: 2, dtype: object\n"
     ]
    }
   ],
   "source": [
    "print(df.loc[2, ['batsman_name', 'runs']])"
   ]
  },
  {
   "cell_type": "code",
   "execution_count": 76,
   "id": "8340924c-6962-4085-b672-e8dc12296bef",
   "metadata": {},
   "outputs": [],
   "source": [
    "#replace – Replacing Values in a DataFrame\n",
    "df['country'] = df['country'].replace('india', 'IND')"
   ]
  },
  {
   "cell_type": "code",
   "execution_count": 77,
   "id": "6ec48c74-d75d-4e1b-9b0e-a5de3e567f59",
   "metadata": {},
   "outputs": [],
   "source": [
    "import numpy as np\n",
    "df['runs'] = df['runs'].replace(0, np.nan)"
   ]
  },
  {
   "cell_type": "code",
   "execution_count": 78,
   "id": "a004ba25-d686-4866-b8d8-f67bb80fcf86",
   "metadata": {},
   "outputs": [],
   "source": [
    "df.replace(100, 50, inplace=True)"
   ]
  },
  {
   "cell_type": "code",
   "execution_count": 79,
   "id": "8353bfef-9e9c-456a-9e7b-a828151381c0",
   "metadata": {},
   "outputs": [],
   "source": [
    "df['dismissal'] = df['dismissal'].replace('b', 'bowled')"
   ]
  },
  {
   "cell_type": "code",
   "execution_count": 80,
   "id": "d802a5fe-8642-491a-afba-ef04a3428ad9",
   "metadata": {},
   "outputs": [],
   "source": [
    "df['dismissal'] = df['dismissal'].replace({\n",
    "    'c': 'caught',\n",
    "    'lbw': 'leg_before_wicket'\n",
    "})"
   ]
  },
  {
   "cell_type": "code",
   "execution_count": 81,
   "id": "c751586e-4c4a-49ec-ae91-a43215303d22",
   "metadata": {},
   "outputs": [],
   "source": [
    "#12: index – Indexing and Resetting Index\n",
    "df.set_index('batsman_name', inplace=True)"
   ]
  },
  {
   "cell_type": "code",
   "execution_count": 82,
   "id": "466fbef3-e43b-454c-acb6-537bed007003",
   "metadata": {},
   "outputs": [],
   "source": [
    "df.reset_index(inplace=True)"
   ]
  },
  {
   "cell_type": "code",
   "execution_count": 83,
   "id": "9e208a50-27fd-4502-b494-20a6b819f166",
   "metadata": {},
   "outputs": [],
   "source": [
    "df.set_index(['country', 'match_id'], inplace=True)\n"
   ]
  },
  {
   "cell_type": "code",
   "execution_count": 84,
   "id": "855dc715-61e5-4734-9939-7ba00749ce24",
   "metadata": {},
   "outputs": [
    {
     "name": "stdout",
     "output_type": "stream",
     "text": [
      "                      batsman_name                        dismissal  runs  \\\n",
      "country match_id                                                            \n",
      "IND     0             Rohit Sharma                     b Madushanka   4.0   \n",
      "        0             Shubman Gill            c Mendis b Madushanka  92.0   \n",
      "        0              Virat Kohli          c Nissanka b Madushanka  88.0   \n",
      "        0             Shreyas Iyer        c Theekshana b Madushanka  82.0   \n",
      "        0                 KL Rahul            c Hemantha b Chameera  21.0   \n",
      "        0         Suryakumar Yadav            c Mendis b Madushanka  12.0   \n",
      "        0          Ravindra Jadeja  run out (Samarawickrama/Mendis)  35.0   \n",
      "        0           Mohammed Shami                 run out (Mendis)   2.0   \n",
      "        0           Jasprit Bumrah                          not out   1.0   \n",
      "\n",
      "                  balls  minutes  4s  6s      SR opposition_team  \\\n",
      "country match_id                                                   \n",
      "IND     0             2        2   1   0  200.00       Sri Lanka   \n",
      "        0            92      136  11   2   50.00       Sri Lanka   \n",
      "        0            94      139  11   0   93.61       Sri Lanka   \n",
      "        0            56       84   3   6  146.42       Sri Lanka   \n",
      "        0            19       34   2   0  110.52       Sri Lanka   \n",
      "        0             9       13   2   0  133.33       Sri Lanka   \n",
      "        0            24       41   1   1  145.83       Sri Lanka   \n",
      "        0             4       11   0   0   50.00       Sri Lanka   \n",
      "        0             1        1   0   0   50.00       Sri Lanka   \n",
      "\n",
      "                  batting_innings batsman_name_3char  first_name last_name  \\\n",
      "country match_id                                                             \n",
      "IND     0                       1                Roh       Rohit    Sharma   \n",
      "        0                       1                Shu     Shubman      Gill   \n",
      "        0                       1                Vir       Virat     Kohli   \n",
      "        0                       1                Shr     Shreyas      Iyer   \n",
      "        0                       1                KL           KL     Rahul   \n",
      "        0                       1                Sur  Suryakumar     Yadav   \n",
      "        0                       1                Rav    Ravindra    Jadeja   \n",
      "        0                       1                Moh    Mohammed     Shami   \n",
      "        0                       1                Jas     Jasprit    Bumrah   \n",
      "\n",
      "                         full_name  \n",
      "country match_id                    \n",
      "IND     0             Rohit Sharma  \n",
      "        0             Shubman Gill  \n",
      "        0              Virat Kohli  \n",
      "        0             Shreyas Iyer  \n",
      "        0                 KL Rahul  \n",
      "        0         Suryakumar Yadav  \n",
      "        0          Ravindra Jadeja  \n",
      "        0           Mohammed Shami  \n",
      "        0           Jasprit Bumrah  \n"
     ]
    },
    {
     "name": "stderr",
     "output_type": "stream",
     "text": [
      "C:\\Users\\VISHAL\\AppData\\Local\\Temp\\ipykernel_15352\\363016327.py:1: PerformanceWarning: indexing past lexsort depth may impact performance.\n",
      "  print(df.loc[('IND', 0)])\n"
     ]
    }
   ],
   "source": [
    "print(df.loc[('IND', 0)])\n"
   ]
  },
  {
   "cell_type": "code",
   "execution_count": 85,
   "id": "08afd993-0e02-4279-a61b-9a6c9b772e0a",
   "metadata": {},
   "outputs": [
    {
     "name": "stdout",
     "output_type": "stream",
     "text": [
      "\n",
      "Index Info:\n",
      "Index type: <class 'pandas.core.indexes.multi.MultiIndex'>\n",
      "Is index unique? False\n"
     ]
    }
   ],
   "source": [
    "print(\"\\nIndex Info:\")\n",
    "print(\"Index type:\", type(df.index))\n",
    "print(\"Is index unique?\", df.index.is_unique)"
   ]
  },
  {
   "cell_type": "code",
   "execution_count": 86,
   "id": "0272dd1e-348d-446d-a714-280c8bcc7752",
   "metadata": {},
   "outputs": [],
   "source": [
    "df.reset_index(inplace=True)\n",
    "df.index = ['Row_' + str(i+1) for i in range(len(df))]"
   ]
  },
  {
   "cell_type": "code",
   "execution_count": 87,
   "id": "eefa0e2e-c8df-469a-a74d-67fd10acb0c7",
   "metadata": {},
   "outputs": [
    {
     "data": {
      "text/html": [
       "<div>\n",
       "<style scoped>\n",
       "    .dataframe tbody tr th:only-of-type {\n",
       "        vertical-align: middle;\n",
       "    }\n",
       "\n",
       "    .dataframe tbody tr th {\n",
       "        vertical-align: top;\n",
       "    }\n",
       "\n",
       "    .dataframe thead th {\n",
       "        text-align: right;\n",
       "    }\n",
       "</style>\n",
       "<table border=\"1\" class=\"dataframe\">\n",
       "  <thead>\n",
       "    <tr style=\"text-align: right;\">\n",
       "      <th></th>\n",
       "      <th>country</th>\n",
       "      <th>match_id</th>\n",
       "      <th>batsman_name</th>\n",
       "      <th>dismissal</th>\n",
       "      <th>runs</th>\n",
       "      <th>balls</th>\n",
       "      <th>minutes</th>\n",
       "      <th>4s</th>\n",
       "      <th>6s</th>\n",
       "      <th>SR</th>\n",
       "      <th>opposition_team</th>\n",
       "      <th>batting_innings</th>\n",
       "      <th>batsman_name_3char</th>\n",
       "      <th>first_name</th>\n",
       "      <th>last_name</th>\n",
       "      <th>full_name</th>\n",
       "    </tr>\n",
       "  </thead>\n",
       "  <tbody>\n",
       "    <tr>\n",
       "      <th>Row_1</th>\n",
       "      <td>IND</td>\n",
       "      <td>0</td>\n",
       "      <td>Rohit Sharma</td>\n",
       "      <td>b Madushanka</td>\n",
       "      <td>4.0</td>\n",
       "      <td>2</td>\n",
       "      <td>2</td>\n",
       "      <td>1</td>\n",
       "      <td>0</td>\n",
       "      <td>200.00</td>\n",
       "      <td>Sri Lanka</td>\n",
       "      <td>1</td>\n",
       "      <td>Roh</td>\n",
       "      <td>Rohit</td>\n",
       "      <td>Sharma</td>\n",
       "      <td>Rohit Sharma</td>\n",
       "    </tr>\n",
       "    <tr>\n",
       "      <th>Row_2</th>\n",
       "      <td>IND</td>\n",
       "      <td>0</td>\n",
       "      <td>Shubman Gill</td>\n",
       "      <td>c Mendis b Madushanka</td>\n",
       "      <td>92.0</td>\n",
       "      <td>92</td>\n",
       "      <td>136</td>\n",
       "      <td>11</td>\n",
       "      <td>2</td>\n",
       "      <td>50.00</td>\n",
       "      <td>Sri Lanka</td>\n",
       "      <td>1</td>\n",
       "      <td>Shu</td>\n",
       "      <td>Shubman</td>\n",
       "      <td>Gill</td>\n",
       "      <td>Shubman Gill</td>\n",
       "    </tr>\n",
       "    <tr>\n",
       "      <th>Row_3</th>\n",
       "      <td>IND</td>\n",
       "      <td>0</td>\n",
       "      <td>Virat Kohli</td>\n",
       "      <td>c Nissanka b Madushanka</td>\n",
       "      <td>88.0</td>\n",
       "      <td>94</td>\n",
       "      <td>139</td>\n",
       "      <td>11</td>\n",
       "      <td>0</td>\n",
       "      <td>93.61</td>\n",
       "      <td>Sri Lanka</td>\n",
       "      <td>1</td>\n",
       "      <td>Vir</td>\n",
       "      <td>Virat</td>\n",
       "      <td>Kohli</td>\n",
       "      <td>Virat Kohli</td>\n",
       "    </tr>\n",
       "    <tr>\n",
       "      <th>Row_4</th>\n",
       "      <td>IND</td>\n",
       "      <td>0</td>\n",
       "      <td>Shreyas Iyer</td>\n",
       "      <td>c Theekshana b Madushanka</td>\n",
       "      <td>82.0</td>\n",
       "      <td>56</td>\n",
       "      <td>84</td>\n",
       "      <td>3</td>\n",
       "      <td>6</td>\n",
       "      <td>146.42</td>\n",
       "      <td>Sri Lanka</td>\n",
       "      <td>1</td>\n",
       "      <td>Shr</td>\n",
       "      <td>Shreyas</td>\n",
       "      <td>Iyer</td>\n",
       "      <td>Shreyas Iyer</td>\n",
       "    </tr>\n",
       "    <tr>\n",
       "      <th>Row_5</th>\n",
       "      <td>IND</td>\n",
       "      <td>0</td>\n",
       "      <td>KL Rahul</td>\n",
       "      <td>c Hemantha b Chameera</td>\n",
       "      <td>21.0</td>\n",
       "      <td>19</td>\n",
       "      <td>34</td>\n",
       "      <td>2</td>\n",
       "      <td>0</td>\n",
       "      <td>110.52</td>\n",
       "      <td>Sri Lanka</td>\n",
       "      <td>1</td>\n",
       "      <td>KL</td>\n",
       "      <td>KL</td>\n",
       "      <td>Rahul</td>\n",
       "      <td>KL Rahul</td>\n",
       "    </tr>\n",
       "  </tbody>\n",
       "</table>\n",
       "</div>"
      ],
      "text/plain": [
       "      country  match_id  batsman_name                  dismissal  runs  balls  \\\n",
       "Row_1     IND         0  Rohit Sharma               b Madushanka   4.0      2   \n",
       "Row_2     IND         0  Shubman Gill      c Mendis b Madushanka  92.0     92   \n",
       "Row_3     IND         0   Virat Kohli    c Nissanka b Madushanka  88.0     94   \n",
       "Row_4     IND         0  Shreyas Iyer  c Theekshana b Madushanka  82.0     56   \n",
       "Row_5     IND         0      KL Rahul      c Hemantha b Chameera  21.0     19   \n",
       "\n",
       "       minutes  4s  6s      SR opposition_team  batting_innings  \\\n",
       "Row_1        2   1   0  200.00       Sri Lanka                1   \n",
       "Row_2      136  11   2   50.00       Sri Lanka                1   \n",
       "Row_3      139  11   0   93.61       Sri Lanka                1   \n",
       "Row_4       84   3   6  146.42       Sri Lanka                1   \n",
       "Row_5       34   2   0  110.52       Sri Lanka                1   \n",
       "\n",
       "      batsman_name_3char first_name last_name     full_name  \n",
       "Row_1                Roh      Rohit    Sharma  Rohit Sharma  \n",
       "Row_2                Shu    Shubman      Gill  Shubman Gill  \n",
       "Row_3                Vir      Virat     Kohli   Virat Kohli  \n",
       "Row_4                Shr    Shreyas      Iyer  Shreyas Iyer  \n",
       "Row_5                KL          KL     Rahul      KL Rahul  "
      ]
     },
     "execution_count": 87,
     "metadata": {},
     "output_type": "execute_result"
    }
   ],
   "source": [
    "df.head()"
   ]
  },
  {
   "cell_type": "code",
   "execution_count": 88,
   "id": "9c8a838e-f405-4db2-ac46-3a5bf0dfecf5",
   "metadata": {},
   "outputs": [
    {
     "name": "stdout",
     "output_type": "stream",
     "text": [
      "country\n",
      "IND             41.616438\n",
      "afghanistan     28.428571\n",
      "australia       33.089888\n",
      "bangladesh      23.142857\n",
      "england         23.988764\n",
      "netherlands     19.415730\n",
      "new_zealand     35.684211\n",
      "pakistan        30.833333\n",
      "south_africa    32.416667\n",
      "sri_lanka       26.972222\n",
      "Name: runs, dtype: float64\n"
     ]
    }
   ],
   "source": [
    "#13. groupby Queries \n",
    "print(df.groupby('country')['runs'].mean())"
   ]
  },
  {
   "cell_type": "code",
   "execution_count": 89,
   "id": "489044a4-1898-4e5a-9e93-11576440f9f0",
   "metadata": {},
   "outputs": [
    {
     "name": "stdout",
     "output_type": "stream",
     "text": [
      "opposition_team\n",
      "Afghanistan      75\n",
      "Australia       109\n",
      "Bangladesh       70\n",
      "England          81\n",
      "India           114\n",
      "Netherlands      81\n",
      "New Zealand      89\n",
      "Pakistan         82\n",
      "South Africa    102\n",
      "Sri Lanka        72\n",
      "dtype: int64\n"
     ]
    }
   ],
   "source": [
    "print(df.groupby('opposition_team').size())"
   ]
  },
  {
   "cell_type": "code",
   "execution_count": 90,
   "id": "21fc3851-6ff6-4a6b-a38e-d0af69b39d8b",
   "metadata": {},
   "outputs": [
    {
     "name": "stdout",
     "output_type": "stream",
     "text": [
      "batsman_name\n",
      "Abdullah Shafique    360\n",
      "Adam Zampa            60\n",
      "Adil Rashid           91\n",
      "Agha Salman           45\n",
      "Aiden Markram        366\n",
      "                    ... \n",
      "Usama Mir              3\n",
      "Vikramjit Singh      150\n",
      "Virat Kohli          847\n",
      "Wesley Barresi       112\n",
      "Will Young           246\n",
      "Name: balls, Length: 146, dtype: int64\n"
     ]
    }
   ],
   "source": [
    "print(df.groupby('batsman_name')['balls'].sum())"
   ]
  },
  {
   "cell_type": "code",
   "execution_count": 91,
   "id": "83e2dc7c-0367-4254-bd32-f563b6043f2e",
   "metadata": {},
   "outputs": [
    {
     "name": "stdout",
     "output_type": "stream",
     "text": [
      "match_id\n",
      "0     382.0\n",
      "1     473.0\n",
      "2     451.0\n",
      "3     343.0\n",
      "4     468.0\n",
      "5     588.0\n",
      "6     473.0\n",
      "7     377.0\n",
      "8     337.0\n",
      "9     687.0\n",
      "10    332.0\n",
      "11    531.0\n",
      "12    527.0\n",
      "13    736.0\n",
      "14    412.0\n",
      "15    539.0\n",
      "16    399.0\n",
      "17    551.0\n",
      "18    408.0\n",
      "19    298.0\n",
      "20    380.0\n",
      "21    515.0\n",
      "22    585.0\n",
      "23    577.0\n",
      "24    471.0\n",
      "25    306.0\n",
      "26    528.0\n",
      "27    553.0\n",
      "28    501.0\n",
      "29    500.0\n",
      "30    661.0\n",
      "31    470.0\n",
      "32    507.0\n",
      "33    458.0\n",
      "34    412.0\n",
      "35    462.0\n",
      "36    381.0\n",
      "37    628.0\n",
      "38    489.0\n",
      "39    396.0\n",
      "40    649.0\n",
      "41    632.0\n",
      "42    571.0\n",
      "43    515.0\n",
      "44    542.0\n",
      "45    467.0\n",
      "46    353.0\n",
      "47    556.0\n",
      "Name: runs, dtype: float64\n"
     ]
    }
   ],
   "source": [
    "print(df.groupby('match_id')['runs'].sum())"
   ]
  },
  {
   "cell_type": "code",
   "execution_count": 92,
   "id": "529b16bf-77f0-4152-8bb5-b066d4e30de5",
   "metadata": {},
   "outputs": [
    {
     "name": "stdout",
     "output_type": "stream",
     "text": [
      "country\n",
      "IND             200.00\n",
      "afghanistan     194.44\n",
      "australia       264.28\n",
      "bangladesh      233.33\n",
      "england         300.00\n",
      "netherlands     255.55\n",
      "new_zealand     250.00\n",
      "pakistan        220.00\n",
      "south_africa    600.00\n",
      "sri_lanka       200.00\n",
      "Name: SR, dtype: float64\n"
     ]
    }
   ],
   "source": [
    "print(df.groupby('country')['SR'].max())"
   ]
  },
  {
   "cell_type": "code",
   "execution_count": 93,
   "id": "7646eea6-f187-4b8a-be43-9c260f0fc713",
   "metadata": {},
   "outputs": [
    {
     "name": "stdout",
     "output_type": "stream",
     "text": [
      "                   mean  median\n",
      "country                        \n",
      "IND           41.616438    34.0\n",
      "afghanistan   28.428571    20.5\n",
      "australia     33.089888    18.0\n",
      "bangladesh    23.142857    14.5\n",
      "england       23.988764    15.0\n",
      "netherlands   19.415730    12.0\n",
      "new_zealand   35.684211    24.5\n",
      "pakistan      30.833333    23.0\n",
      "south_africa  32.416667    20.0\n",
      "sri_lanka     26.972222    14.5\n"
     ]
    }
   ],
   "source": [
    "#14: Multiple Aggregations using .agg()\n",
    "print(df.groupby('country')['runs'].agg(['mean', 'median']))\n"
   ]
  },
  {
   "cell_type": "code",
   "execution_count": 94,
   "id": "bd84f6fa-d435-4568-99af-51e99c7aefe3",
   "metadata": {},
   "outputs": [
    {
     "name": "stdout",
     "output_type": "stream",
     "text": [
      "                     sum       mean  count\n",
      "opposition_team                           \n",
      "Afghanistan      5680.14  75.735200     75\n",
      "Australia        7753.46  71.132661    109\n",
      "Bangladesh       5718.08  81.686857     70\n",
      "England          6322.49  78.055432     81\n",
      "India            7374.68  64.690175    114\n",
      "Netherlands      7301.62  90.143457     81\n",
      "New Zealand      8101.38  91.026742     89\n",
      "Pakistan         7056.01  86.048902     82\n",
      "South Africa     7860.84  77.067059    102\n",
      "Sri Lanka        7156.22  99.391944     72\n"
     ]
    }
   ],
   "source": [
    "print(df.groupby('opposition_team')['SR'].agg(['sum', 'mean', 'count']))\n"
   ]
  },
  {
   "cell_type": "code",
   "execution_count": 95,
   "id": "fd33c238-853e-4b6a-a203-5ebcd78c420d",
   "metadata": {},
   "outputs": [
    {
     "name": "stdout",
     "output_type": "stream",
     "text": [
      "           min    max\n",
      "match_id             \n",
      "0          1.0   92.0\n",
      "1          1.0   68.0\n",
      "2          1.0  137.0\n",
      "3          1.0   87.0\n",
      "4          4.0   91.0\n",
      "5          1.0  174.0\n",
      "6          2.0   89.0\n",
      "7          2.0   86.0\n",
      "8          1.0   51.0\n",
      "9          1.0  134.0\n",
      "10         1.0   58.0\n",
      "11         3.0  108.0\n",
      "12         1.0  130.0\n",
      "13         1.0  116.0\n",
      "14         1.0   78.0\n",
      "15         1.0  109.0\n",
      "16         1.0  101.0\n",
      "17        11.0  152.0\n",
      "18         2.0   78.0\n",
      "19         1.0   59.0\n",
      "20         1.0   97.0\n",
      "21         1.0   71.0\n",
      "22         2.0  177.0\n",
      "23         1.0  140.0\n",
      "24         2.0   80.0\n",
      "25         1.0   77.0\n",
      "26         1.0   70.0\n",
      "27         3.0  201.0\n",
      "28         2.0   91.0\n",
      "29         2.0  133.0\n",
      "30         4.0  108.0\n",
      "31         1.0  106.0\n",
      "32         1.0  103.0\n",
      "33         2.0  109.0\n",
      "34         1.0   71.0\n",
      "35         1.0   73.0\n",
      "36         1.0  101.0\n",
      "37         1.0  163.0\n",
      "38         1.0  108.0\n",
      "39         1.0   81.0\n",
      "40         1.0  131.0\n",
      "41         2.0  128.0\n",
      "42         2.0  126.0\n",
      "43         2.0  131.0\n",
      "44         3.0   87.0\n",
      "45         2.0   97.0\n",
      "46         1.0   68.0\n",
      "47         1.0   84.0\n"
     ]
    }
   ],
   "source": [
    "print(df.groupby('match_id')['runs'].agg(['min', 'max']))"
   ]
  },
  {
   "cell_type": "code",
   "execution_count": 96,
   "id": "ee9896d5-5ceb-4fd5-a519-294527d4d3ce",
   "metadata": {},
   "outputs": [
    {
     "name": "stdout",
     "output_type": "stream",
     "text": [
      "              country  SR_range\n",
      "Row_1             IND    200.00\n",
      "Row_10       pakistan    220.00\n",
      "Row_42    netherlands    255.55\n",
      "Row_53   south_africa    600.00\n",
      "Row_60     bangladesh    233.33\n",
      "Row_82      sri_lanka    200.00\n",
      "Row_121   new_zealand    250.00\n",
      "Row_132     australia    264.28\n",
      "Row_173       england    300.00\n",
      "Row_195   afghanistan    194.44\n"
     ]
    }
   ],
   "source": [
    "df['SR_range'] = df.groupby('country')['SR'].transform(lambda x: x.max() - x.min())\n",
    "print(df[['country', 'SR_range']].drop_duplicates())"
   ]
  },
  {
   "cell_type": "code",
   "execution_count": 97,
   "id": "2ebaa7af-7c33-487d-b30f-ea6b969bc553",
   "metadata": {},
   "outputs": [
    {
     "name": "stdout",
     "output_type": "stream",
     "text": [
      "                     balls   4s\n",
      "opposition_team                \n",
      "Afghanistan      32.093333  184\n",
      "Australia        27.513761  237\n",
      "Bangladesh       34.171429  222\n",
      "England          28.975309  212\n",
      "India            24.429825  199\n",
      "Netherlands      30.765432  248\n",
      "New Zealand      30.460674  224\n",
      "Pakistan         30.256098  252\n",
      "South Africa     25.264706  230\n",
      "Sri Lanka        31.430556  231\n"
     ]
    }
   ],
   "source": [
    "print(df.groupby('opposition_team').agg({'balls': 'mean', '4s': 'sum'}))\n"
   ]
  },
  {
   "cell_type": "code",
   "execution_count": null,
   "id": "31c09417-47fb-44e9-b071-38ca7898224c",
   "metadata": {},
   "outputs": [],
   "source": []
  }
 ],
 "metadata": {
  "kernelspec": {
   "display_name": "Python 3 (ipykernel)",
   "language": "python",
   "name": "python3"
  },
  "language_info": {
   "codemirror_mode": {
    "name": "ipython",
    "version": 3
   },
   "file_extension": ".py",
   "mimetype": "text/x-python",
   "name": "python",
   "nbconvert_exporter": "python",
   "pygments_lexer": "ipython3",
   "version": "3.12.7"
  }
 },
 "nbformat": 4,
 "nbformat_minor": 5
}
