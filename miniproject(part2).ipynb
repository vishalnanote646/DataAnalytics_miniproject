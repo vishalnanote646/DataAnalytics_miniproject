{
 "cells": [
  {
   "cell_type": "code",
   "execution_count": 1,
   "id": "b9e485a2-5ec5-44a9-a51e-e63162247d50",
   "metadata": {},
   "outputs": [
    {
     "name": "stdout",
     "output_type": "stream",
     "text": [
      "Requirement already satisfied: faker in c:\\users\\vishal\\anaconda3\\new folder\\vishalda\\vishaldaa\\dataanalytics\\lib\\site-packages (37.1.0)\n",
      "Requirement already satisfied: tzdata in c:\\users\\vishal\\anaconda3\\new folder\\vishalda\\vishaldaa\\dataanalytics\\lib\\site-packages (from faker) (2023.3)\n"
     ]
    }
   ],
   "source": [
    "!pip install faker\n",
    "from faker import Faker\n",
    "import pandas as pd\n",
    "\n",
    "fake = Faker()"
   ]
  },
  {
   "cell_type": "code",
   "execution_count": 2,
   "id": "02d0e998-6df5-4664-ad96-04c3acdd92ef",
   "metadata": {},
   "outputs": [
    {
     "data": {
      "text/html": [
       "<div>\n",
       "<style scoped>\n",
       "    .dataframe tbody tr th:only-of-type {\n",
       "        vertical-align: middle;\n",
       "    }\n",
       "\n",
       "    .dataframe tbody tr th {\n",
       "        vertical-align: top;\n",
       "    }\n",
       "\n",
       "    .dataframe thead th {\n",
       "        text-align: right;\n",
       "    }\n",
       "</style>\n",
       "<table border=\"1\" class=\"dataframe\">\n",
       "  <thead>\n",
       "    <tr style=\"text-align: right;\">\n",
       "      <th></th>\n",
       "      <th>Name</th>\n",
       "      <th>Address</th>\n",
       "      <th>Date</th>\n",
       "    </tr>\n",
       "  </thead>\n",
       "  <tbody>\n",
       "    <tr>\n",
       "      <th>0</th>\n",
       "      <td>Jason Foster</td>\n",
       "      <td>608 Henry Keys Apt. 827\\nWest Kendraberg, PR 0...</td>\n",
       "      <td>2014-01-29</td>\n",
       "    </tr>\n",
       "    <tr>\n",
       "      <th>1</th>\n",
       "      <td>Jose Nunez</td>\n",
       "      <td>49020 Pruitt Pine\\nPort Rose, NV 95659</td>\n",
       "      <td>2017-11-08</td>\n",
       "    </tr>\n",
       "    <tr>\n",
       "      <th>2</th>\n",
       "      <td>Melissa Vargas</td>\n",
       "      <td>PSC 9250, Box 2113\\nAPO AP 47930</td>\n",
       "      <td>2018-09-02</td>\n",
       "    </tr>\n",
       "    <tr>\n",
       "      <th>3</th>\n",
       "      <td>Robert Johnson</td>\n",
       "      <td>507 Allen Forks\\nHudsonchester, VT 27661</td>\n",
       "      <td>2004-12-30</td>\n",
       "    </tr>\n",
       "    <tr>\n",
       "      <th>4</th>\n",
       "      <td>Laura Jones</td>\n",
       "      <td>3036 Martinez Springs\\nSouth Tiffanymouth, TN ...</td>\n",
       "      <td>1986-05-19</td>\n",
       "    </tr>\n",
       "  </tbody>\n",
       "</table>\n",
       "</div>"
      ],
      "text/plain": [
       "             Name                                            Address  \\\n",
       "0    Jason Foster  608 Henry Keys Apt. 827\\nWest Kendraberg, PR 0...   \n",
       "1      Jose Nunez             49020 Pruitt Pine\\nPort Rose, NV 95659   \n",
       "2  Melissa Vargas                   PSC 9250, Box 2113\\nAPO AP 47930   \n",
       "3  Robert Johnson           507 Allen Forks\\nHudsonchester, VT 27661   \n",
       "4     Laura Jones  3036 Martinez Springs\\nSouth Tiffanymouth, TN ...   \n",
       "\n",
       "         Date  \n",
       "0  2014-01-29  \n",
       "1  2017-11-08  \n",
       "2  2018-09-02  \n",
       "3  2004-12-30  \n",
       "4  1986-05-19  "
      ]
     },
     "execution_count": 2,
     "metadata": {},
     "output_type": "execute_result"
    }
   ],
   "source": [
    "data = {\n",
    "    'Name': [fake.name() for _ in range(100)],\n",
    "    'Address': [fake.address() for _ in range(100)],\n",
    "    'Date': [fake.date() for _ in range(100)]\n",
    "}\n",
    "df1 = pd.DataFrame(data)\n",
    "df1.head()"
   ]
  },
  {
   "cell_type": "code",
   "execution_count": 3,
   "id": "80c644f3-6eca-454e-b2b7-72a62cf4dd1f",
   "metadata": {},
   "outputs": [
    {
     "data": {
      "text/html": [
       "<div>\n",
       "<style scoped>\n",
       "    .dataframe tbody tr th:only-of-type {\n",
       "        vertical-align: middle;\n",
       "    }\n",
       "\n",
       "    .dataframe tbody tr th {\n",
       "        vertical-align: top;\n",
       "    }\n",
       "\n",
       "    .dataframe thead th {\n",
       "        text-align: right;\n",
       "    }\n",
       "</style>\n",
       "<table border=\"1\" class=\"dataframe\">\n",
       "  <thead>\n",
       "    <tr style=\"text-align: right;\">\n",
       "      <th></th>\n",
       "      <th>Name</th>\n",
       "    </tr>\n",
       "  </thead>\n",
       "  <tbody>\n",
       "    <tr>\n",
       "      <th>0</th>\n",
       "      <td>Gary Gonzalez</td>\n",
       "    </tr>\n",
       "    <tr>\n",
       "      <th>1</th>\n",
       "      <td>Melissa Watts</td>\n",
       "    </tr>\n",
       "    <tr>\n",
       "      <th>2</th>\n",
       "      <td>Calvin Fletcher II</td>\n",
       "    </tr>\n",
       "    <tr>\n",
       "      <th>3</th>\n",
       "      <td>Antonio Young</td>\n",
       "    </tr>\n",
       "    <tr>\n",
       "      <th>4</th>\n",
       "      <td>Courtney Davis</td>\n",
       "    </tr>\n",
       "  </tbody>\n",
       "</table>\n",
       "</div>"
      ],
      "text/plain": [
       "                 Name\n",
       "0       Gary Gonzalez\n",
       "1       Melissa Watts\n",
       "2  Calvin Fletcher II\n",
       "3       Antonio Young\n",
       "4      Courtney Davis"
      ]
     },
     "execution_count": 3,
     "metadata": {},
     "output_type": "execute_result"
    }
   ],
   "source": [
    "names = [fake.name() for _ in range(20)]\n",
    "df_names = pd.DataFrame({'Name': names})\n",
    "df_names.head()"
   ]
  },
  {
   "cell_type": "code",
   "execution_count": 4,
   "id": "125a66d3-9f8b-4a2f-988e-14725b2b958c",
   "metadata": {},
   "outputs": [
    {
     "data": {
      "text/html": [
       "<div>\n",
       "<style scoped>\n",
       "    .dataframe tbody tr th:only-of-type {\n",
       "        vertical-align: middle;\n",
       "    }\n",
       "\n",
       "    .dataframe tbody tr th {\n",
       "        vertical-align: top;\n",
       "    }\n",
       "\n",
       "    .dataframe thead th {\n",
       "        text-align: right;\n",
       "    }\n",
       "</style>\n",
       "<table border=\"1\" class=\"dataframe\">\n",
       "  <thead>\n",
       "    <tr style=\"text-align: right;\">\n",
       "      <th></th>\n",
       "      <th>Name</th>\n",
       "      <th>Email</th>\n",
       "    </tr>\n",
       "  </thead>\n",
       "  <tbody>\n",
       "    <tr>\n",
       "      <th>0</th>\n",
       "      <td>Gary Gonzalez</td>\n",
       "      <td>samantha48@example.net</td>\n",
       "    </tr>\n",
       "    <tr>\n",
       "      <th>1</th>\n",
       "      <td>Melissa Watts</td>\n",
       "      <td>karenstone@example.net</td>\n",
       "    </tr>\n",
       "    <tr>\n",
       "      <th>2</th>\n",
       "      <td>Calvin Fletcher II</td>\n",
       "      <td>carterjacob@example.org</td>\n",
       "    </tr>\n",
       "    <tr>\n",
       "      <th>3</th>\n",
       "      <td>Antonio Young</td>\n",
       "      <td>mcdonaldnicholas@example.net</td>\n",
       "    </tr>\n",
       "    <tr>\n",
       "      <th>4</th>\n",
       "      <td>Courtney Davis</td>\n",
       "      <td>wwright@example.com</td>\n",
       "    </tr>\n",
       "  </tbody>\n",
       "</table>\n",
       "</div>"
      ],
      "text/plain": [
       "                 Name                         Email\n",
       "0       Gary Gonzalez        samantha48@example.net\n",
       "1       Melissa Watts        karenstone@example.net\n",
       "2  Calvin Fletcher II       carterjacob@example.org\n",
       "3       Antonio Young  mcdonaldnicholas@example.net\n",
       "4      Courtney Davis           wwright@example.com"
      ]
     },
     "execution_count": 4,
     "metadata": {},
     "output_type": "execute_result"
    }
   ],
   "source": [
    "emails = [fake.email() for _ in range(20)]\n",
    "df_names['Email'] = emails\n",
    "df_names.head()"
   ]
  },
  {
   "cell_type": "code",
   "execution_count": 5,
   "id": "852d1e3f-fd26-421a-9047-c585f26cf511",
   "metadata": {},
   "outputs": [
    {
     "data": {
      "text/html": [
       "<div>\n",
       "<style scoped>\n",
       "    .dataframe tbody tr th:only-of-type {\n",
       "        vertical-align: middle;\n",
       "    }\n",
       "\n",
       "    .dataframe tbody tr th {\n",
       "        vertical-align: top;\n",
       "    }\n",
       "\n",
       "    .dataframe thead th {\n",
       "        text-align: right;\n",
       "    }\n",
       "</style>\n",
       "<table border=\"1\" class=\"dataframe\">\n",
       "  <thead>\n",
       "    <tr style=\"text-align: right;\">\n",
       "      <th></th>\n",
       "      <th>Name</th>\n",
       "      <th>Email</th>\n",
       "      <th>DOB</th>\n",
       "      <th>Age</th>\n",
       "    </tr>\n",
       "  </thead>\n",
       "  <tbody>\n",
       "    <tr>\n",
       "      <th>0</th>\n",
       "      <td>Gary Gonzalez</td>\n",
       "      <td>samantha48@example.net</td>\n",
       "      <td>1969-07-29</td>\n",
       "      <td>56</td>\n",
       "    </tr>\n",
       "    <tr>\n",
       "      <th>1</th>\n",
       "      <td>Melissa Watts</td>\n",
       "      <td>karenstone@example.net</td>\n",
       "      <td>1975-12-20</td>\n",
       "      <td>50</td>\n",
       "    </tr>\n",
       "    <tr>\n",
       "      <th>2</th>\n",
       "      <td>Calvin Fletcher II</td>\n",
       "      <td>carterjacob@example.org</td>\n",
       "      <td>1979-03-29</td>\n",
       "      <td>46</td>\n",
       "    </tr>\n",
       "    <tr>\n",
       "      <th>3</th>\n",
       "      <td>Antonio Young</td>\n",
       "      <td>mcdonaldnicholas@example.net</td>\n",
       "      <td>1976-12-12</td>\n",
       "      <td>49</td>\n",
       "    </tr>\n",
       "    <tr>\n",
       "      <th>4</th>\n",
       "      <td>Courtney Davis</td>\n",
       "      <td>wwright@example.com</td>\n",
       "      <td>1971-08-18</td>\n",
       "      <td>54</td>\n",
       "    </tr>\n",
       "  </tbody>\n",
       "</table>\n",
       "</div>"
      ],
      "text/plain": [
       "                 Name                         Email         DOB  Age\n",
       "0       Gary Gonzalez        samantha48@example.net  1969-07-29   56\n",
       "1       Melissa Watts        karenstone@example.net  1975-12-20   50\n",
       "2  Calvin Fletcher II       carterjacob@example.org  1979-03-29   46\n",
       "3       Antonio Young  mcdonaldnicholas@example.net  1976-12-12   49\n",
       "4      Courtney Davis           wwright@example.com  1971-08-18   54"
      ]
     },
     "execution_count": 5,
     "metadata": {},
     "output_type": "execute_result"
    }
   ],
   "source": [
    "dob = [fake.date_of_birth(minimum_age=18, maximum_age=60) for _ in range(20)]\n",
    "df_names['DOB'] = dob\n",
    "df_names['Age'] = [2025 - d.year for d in dob]\n",
    "df_names.head()"
   ]
  },
  {
   "cell_type": "code",
   "execution_count": 6,
   "id": "bf8289eb-4cdc-4122-bb15-ded9d6bcdcc3",
   "metadata": {},
   "outputs": [
    {
     "data": {
      "text/html": [
       "<div>\n",
       "<style scoped>\n",
       "    .dataframe tbody tr th:only-of-type {\n",
       "        vertical-align: middle;\n",
       "    }\n",
       "\n",
       "    .dataframe tbody tr th {\n",
       "        vertical-align: top;\n",
       "    }\n",
       "\n",
       "    .dataframe thead th {\n",
       "        text-align: right;\n",
       "    }\n",
       "</style>\n",
       "<table border=\"1\" class=\"dataframe\">\n",
       "  <thead>\n",
       "    <tr style=\"text-align: right;\">\n",
       "      <th></th>\n",
       "      <th>Product_Name</th>\n",
       "      <th>Price</th>\n",
       "    </tr>\n",
       "  </thead>\n",
       "  <tbody>\n",
       "    <tr>\n",
       "      <th>0</th>\n",
       "      <td>Once</td>\n",
       "      <td>628</td>\n",
       "    </tr>\n",
       "    <tr>\n",
       "      <th>1</th>\n",
       "      <td>Indicate</td>\n",
       "      <td>48</td>\n",
       "    </tr>\n",
       "    <tr>\n",
       "      <th>2</th>\n",
       "      <td>Toward</td>\n",
       "      <td>161</td>\n",
       "    </tr>\n",
       "    <tr>\n",
       "      <th>3</th>\n",
       "      <td>Quickly</td>\n",
       "      <td>171</td>\n",
       "    </tr>\n",
       "    <tr>\n",
       "      <th>4</th>\n",
       "      <td>Program</td>\n",
       "      <td>237</td>\n",
       "    </tr>\n",
       "  </tbody>\n",
       "</table>\n",
       "</div>"
      ],
      "text/plain": [
       "  Product_Name  Price\n",
       "0         Once    628\n",
       "1     Indicate     48\n",
       "2       Toward    161\n",
       "3      Quickly    171\n",
       "4      Program    237"
      ]
     },
     "execution_count": 6,
     "metadata": {},
     "output_type": "execute_result"
    }
   ],
   "source": [
    "products = {\n",
    "    'Product_Name': [fake.word().capitalize() for _ in range(10)],\n",
    "    'Price': [round(fake.random_number(digits=3), 2) for _ in range(10)]\n",
    "}\n",
    "df_products = pd.DataFrame(products)\n",
    "df_products.head()"
   ]
  },
  {
   "cell_type": "code",
   "execution_count": 7,
   "id": "b8272cb6-e15b-4385-b72e-ed67e4334817",
   "metadata": {},
   "outputs": [
    {
     "data": {
      "text/html": [
       "<div>\n",
       "<style scoped>\n",
       "    .dataframe tbody tr th:only-of-type {\n",
       "        vertical-align: middle;\n",
       "    }\n",
       "\n",
       "    .dataframe tbody tr th {\n",
       "        vertical-align: top;\n",
       "    }\n",
       "\n",
       "    .dataframe thead th {\n",
       "        text-align: right;\n",
       "    }\n",
       "</style>\n",
       "<table border=\"1\" class=\"dataframe\">\n",
       "  <thead>\n",
       "    <tr style=\"text-align: right;\">\n",
       "      <th></th>\n",
       "      <th>Name</th>\n",
       "      <th>City</th>\n",
       "      <th>Phone</th>\n",
       "    </tr>\n",
       "  </thead>\n",
       "  <tbody>\n",
       "    <tr>\n",
       "      <th>0</th>\n",
       "      <td>April Reynolds</td>\n",
       "      <td>Kennedyburgh</td>\n",
       "      <td>+1-631-354-1699x536</td>\n",
       "    </tr>\n",
       "    <tr>\n",
       "      <th>1</th>\n",
       "      <td>Jasmine Edwards</td>\n",
       "      <td>Gomezmouth</td>\n",
       "      <td>464.370.8217x917</td>\n",
       "    </tr>\n",
       "    <tr>\n",
       "      <th>2</th>\n",
       "      <td>Kayla Mullen</td>\n",
       "      <td>Richardview</td>\n",
       "      <td>975-834-7261</td>\n",
       "    </tr>\n",
       "    <tr>\n",
       "      <th>3</th>\n",
       "      <td>Katherine Rice</td>\n",
       "      <td>Whiteheadtown</td>\n",
       "      <td>684-879-0499x63263</td>\n",
       "    </tr>\n",
       "    <tr>\n",
       "      <th>4</th>\n",
       "      <td>Rachael Wilson</td>\n",
       "      <td>Port Alice</td>\n",
       "      <td>739.620.6422x342</td>\n",
       "    </tr>\n",
       "  </tbody>\n",
       "</table>\n",
       "</div>"
      ],
      "text/plain": [
       "              Name           City                Phone\n",
       "0   April Reynolds   Kennedyburgh  +1-631-354-1699x536\n",
       "1  Jasmine Edwards     Gomezmouth     464.370.8217x917\n",
       "2     Kayla Mullen    Richardview         975-834-7261\n",
       "3   Katherine Rice  Whiteheadtown   684-879-0499x63263\n",
       "4   Rachael Wilson     Port Alice     739.620.6422x342"
      ]
     },
     "execution_count": 7,
     "metadata": {},
     "output_type": "execute_result"
    }
   ],
   "source": [
    "users = {\n",
    "    'Name': [fake.name() for _ in range(10)],\n",
    "    'City': [fake.city() for _ in range(10)],\n",
    "    'Phone': [fake.phone_number() for _ in range(10)]\n",
    "}\n",
    "df_users = pd.DataFrame(users)\n",
    "df_users.head()"
   ]
  },
  {
   "cell_type": "code",
   "execution_count": 8,
   "id": "0f0cad68-6c72-42bb-a473-a3d47e582029",
   "metadata": {},
   "outputs": [],
   "source": [
    "#16: Merging DataFrames \n",
    "# First DataFrame: Products\n",
    "df_products = pd.DataFrame({\n",
    "    'Product_ID': [101, 102, 103, 104, 105],\n",
    "    'Product_Name': ['Mouse', 'Keyboard', 'Monitor', 'USB Cable', 'Charger'],\n",
    "    'Price': [500, 700, 6000, 150, 800]\n",
    "})\n",
    "\n",
    "# Second DataFrame: Sales\n",
    "df_sales = pd.DataFrame({\n",
    "    'Product_ID': [101, 103, 106, 104],\n",
    "    'Quantity': [10, 5, 7, 3],\n",
    "    'Sale_Date': ['2025-03-01', '2025-03-02', '2025-03-03', '2025-03-04']\n",
    "})\n"
   ]
  },
  {
   "cell_type": "code",
   "execution_count": 9,
   "id": "b4f354c6-42f2-49d8-97fe-b2b1bc5d2d37",
   "metadata": {},
   "outputs": [
    {
     "name": "stdout",
     "output_type": "stream",
     "text": [
      "\n",
      "1. Inner Merge:\n",
      "    Product_ID Product_Name  Price  Quantity   Sale_Date\n",
      "0         101        Mouse    500        10  2025-03-01\n",
      "1         103      Monitor   6000         5  2025-03-02\n",
      "2         104    USB Cable    150         3  2025-03-04\n"
     ]
    }
   ],
   "source": [
    "merged_inner = pd.merge(df_products, df_sales, on='Product_ID')\n",
    "print(\"\\n1. Inner Merge:\\n\", merged_inner)\n"
   ]
  },
  {
   "cell_type": "code",
   "execution_count": 10,
   "id": "65d5df15-db61-44b7-b047-ac3dd005e1a1",
   "metadata": {},
   "outputs": [
    {
     "name": "stdout",
     "output_type": "stream",
     "text": [
      "\n",
      "2. Left Join:\n",
      "    Product_ID Product_Name  Price  Quantity   Sale_Date\n",
      "0         101        Mouse    500      10.0  2025-03-01\n",
      "1         102     Keyboard    700       NaN         NaN\n",
      "2         103      Monitor   6000       5.0  2025-03-02\n",
      "3         104    USB Cable    150       3.0  2025-03-04\n",
      "4         105      Charger    800       NaN         NaN\n"
     ]
    }
   ],
   "source": [
    "merged_left = pd.merge(df_products, df_sales, on='Product_ID', how='left')\n",
    "print(\"\\n2. Left Join:\\n\", merged_left)"
   ]
  },
  {
   "cell_type": "code",
   "execution_count": 11,
   "id": "2b385580-2872-4b6e-8b44-0e006ba31cf5",
   "metadata": {},
   "outputs": [
    {
     "name": "stdout",
     "output_type": "stream",
     "text": [
      "\n",
      "3. Left Join (again):\n",
      "    Product_ID Product_Name  Price  Quantity   Sale_Date\n",
      "0         101        Mouse    500      10.0  2025-03-01\n",
      "1         102     Keyboard    700       NaN         NaN\n",
      "2         103      Monitor   6000       5.0  2025-03-02\n",
      "3         104    USB Cable    150       3.0  2025-03-04\n",
      "4         105      Charger    800       NaN         NaN\n"
     ]
    }
   ],
   "source": [
    "print(\"\\n3. Left Join (again):\\n\", merged_left)"
   ]
  },
  {
   "cell_type": "code",
   "execution_count": 12,
   "id": "80ed8594-d237-40dc-a551-4ce445aea43e",
   "metadata": {},
   "outputs": [],
   "source": [
    "df_extra = df_products.copy()\n",
    "df_extra['Category'] = ['Electronics', 'Electronics', 'Electronics', 'Accessories', 'Accessories']\n",
    "df_extra2 = df_sales.copy()\n",
    "df_extra2['Category'] = ['Electronics', 'Electronics', 'Gaming', 'Accessories']\n"
   ]
  },
  {
   "cell_type": "code",
   "execution_count": 13,
   "id": "86cab0e1-cf42-4bca-a0d8-8f5cecea11bc",
   "metadata": {},
   "outputs": [
    {
     "name": "stdout",
     "output_type": "stream",
     "text": [
      "\n",
      "4. Merge on Multiple Columns:\n",
      "    Product_ID Product_Name  Price     Category  Quantity   Sale_Date\n",
      "0         101        Mouse    500  Electronics        10  2025-03-01\n",
      "1         103      Monitor   6000  Electronics         5  2025-03-02\n",
      "2         104    USB Cable    150  Accessories         3  2025-03-04\n"
     ]
    }
   ],
   "source": [
    "merged_multi = pd.merge(df_extra, df_extra2, on=['Product_ID', 'Category'], how='inner')\n",
    "print(\"\\n4. Merge on Multiple Columns:\\n\", merged_multi)"
   ]
  },
  {
   "cell_type": "code",
   "execution_count": 14,
   "id": "aaee6650-323e-45f8-b99d-678d9275f861",
   "metadata": {},
   "outputs": [
    {
     "name": "stdout",
     "output_type": "stream",
     "text": [
      "\n",
      "5. Inner Join on Country:\n",
      "   Country  Value1  Value2\n",
      "0   India      10     100\n",
      "1     USA      20     200\n"
     ]
    }
   ],
   "source": [
    "df1 = pd.DataFrame({'Country': ['India', 'USA', 'UK'], 'Value1': [10, 20, 30]})\n",
    "df2 = pd.DataFrame({'Country': ['India', 'USA', 'Germany'], 'Value2': [100, 200, 300]})\n",
    "merged_country = pd.merge(df1, df2, on='Country', how='inner')\n",
    "print(\"\\n5. Inner Join on Country:\\n\", merged_country)"
   ]
  },
  {
   "cell_type": "code",
   "execution_count": 15,
   "id": "9d2b471e-492e-42c2-aa6b-ae6c3e102371",
   "metadata": {},
   "outputs": [
    {
     "name": "stdout",
     "output_type": "stream",
     "text": [
      "\n",
      "6. Outer Join (All Rows):\n",
      "    Product_ID Product_Name   Price  Quantity   Sale_Date\n",
      "0         101        Mouse   500.0      10.0  2025-03-01\n",
      "1         102     Keyboard   700.0       NaN         NaN\n",
      "2         103      Monitor  6000.0       5.0  2025-03-02\n",
      "3         104    USB Cable   150.0       3.0  2025-03-04\n",
      "4         105      Charger   800.0       NaN         NaN\n",
      "5         106          NaN     NaN       7.0  2025-03-03\n"
     ]
    }
   ],
   "source": [
    "merged_outer = pd.merge(df_products, df_sales, on='Product_ID', how='outer')\n",
    "print(\"\\n6. Outer Join (All Rows):\\n\", merged_outer)"
   ]
  },
  {
   "cell_type": "code",
   "execution_count": 16,
   "id": "f2e6e1dc-05cf-4812-b385-0e63fcaf8e12",
   "metadata": {},
   "outputs": [
    {
     "name": "stdout",
     "output_type": "stream",
     "text": [
      "CSV file saved: merged_data.csv\n"
     ]
    }
   ],
   "source": [
    "#17: Saving and Exporting Data\n",
    "# Save to CSV (no index column)\n",
    "merged_inner.to_csv('merged_data.csv', index=False)\n",
    "print(\"CSV file saved: merged_data.csv\")"
   ]
  },
  {
   "cell_type": "code",
   "execution_count": 17,
   "id": "e2f560a8-92da-4f4d-8c31-694118603654",
   "metadata": {},
   "outputs": [
    {
     "name": "stdout",
     "output_type": "stream",
     "text": [
      "Excel file saved: merged_data.xlsx\n"
     ]
    }
   ],
   "source": [
    "# Save to Excel (requires openpyxl for .xlsx)\n",
    "merged_inner.to_excel('merged_data.xlsx', index=False)\n",
    "print(\"Excel file saved: merged_data.xlsx\")"
   ]
  },
  {
   "cell_type": "code",
   "execution_count": 18,
   "id": "a7878aa1-db9d-47b0-86e8-a0fc0e6acff7",
   "metadata": {},
   "outputs": [
    {
     "name": "stdout",
     "output_type": "stream",
     "text": [
      "\n",
      "Preview from saved CSV:\n",
      "   Product_ID Product_Name  Price  Quantity   Sale_Date\n",
      "0         101        Mouse    500        10  2025-03-01\n",
      "1         103      Monitor   6000         5  2025-03-02\n",
      "2         104    USB Cable    150         3  2025-03-04\n",
      "\n",
      "Preview from saved Excel:\n",
      "   Product_ID Product_Name  Price  Quantity   Sale_Date\n",
      "0         101        Mouse    500        10  2025-03-01\n",
      "1         103      Monitor   6000         5  2025-03-02\n",
      "2         104    USB Cable    150         3  2025-03-04\n"
     ]
    }
   ],
   "source": [
    "# Read the saved CSV\n",
    "df_csv = pd.read_csv('merged_data.csv')\n",
    "print(\"\\nPreview from saved CSV:\")\n",
    "print(df_csv.head())\n",
    "\n",
    "# Read the saved Excel\n",
    "df_excel = pd.read_excel('merged_data.xlsx')\n",
    "print(\"\\nPreview from saved Excel:\")\n",
    "print(df_excel.head())"
   ]
  },
  {
   "cell_type": "code",
   "execution_count": null,
   "id": "c9689fb9-f431-494d-869b-327a15c0b113",
   "metadata": {},
   "outputs": [],
   "source": []
  }
 ],
 "metadata": {
  "kernelspec": {
   "display_name": "Python 3 (ipykernel)",
   "language": "python",
   "name": "python3"
  },
  "language_info": {
   "codemirror_mode": {
    "name": "ipython",
    "version": 3
   },
   "file_extension": ".py",
   "mimetype": "text/x-python",
   "name": "python",
   "nbconvert_exporter": "python",
   "pygments_lexer": "ipython3",
   "version": "3.12.7"
  }
 },
 "nbformat": 4,
 "nbformat_minor": 5
}
