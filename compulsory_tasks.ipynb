{
 "cells": [
  {
   "cell_type": "code",
   "execution_count": 1,
   "id": "eb3afdc8-041b-4514-ac99-47c32305cbcc",
   "metadata": {},
   "outputs": [],
   "source": [
    "import pandas as pd\n"
   ]
  },
  {
   "cell_type": "code",
   "execution_count": 2,
   "id": "2b2455ce-c8f3-4a8d-991c-ad942fe4d138",
   "metadata": {},
   "outputs": [],
   "source": [
    "df = pd.read_csv('dataset.csv')"
   ]
  },
  {
   "cell_type": "code",
   "execution_count": 4,
   "id": "51182f01-e56b-4b85-813e-8db615eb8e01",
   "metadata": {},
   "outputs": [
    {
     "name": "stdout",
     "output_type": "stream",
     "text": [
      "Index(['player', 'dismissal', 'runs', 'balls', 'minutes', '4s', '6s',\n",
      "       'strike_rate', 'team', 'opponent', 'innings', 'match_id'],\n",
      "      dtype='object')\n"
     ]
    }
   ],
   "source": [
    "print(df.columns)"
   ]
  },
  {
   "cell_type": "code",
   "execution_count": 6,
   "id": "04afd54f-8b8f-424e-a4d2-96efde413fe5",
   "metadata": {},
   "outputs": [],
   "source": [
    "filtered_df = df[(df['strike_rate'].between(80, 120)) & (df['team'] == 'IND')]\n"
   ]
  },
  {
   "cell_type": "code",
   "execution_count": 7,
   "id": "1fa35e06-5abd-4464-b549-f949dfbb48d0",
   "metadata": {},
   "outputs": [],
   "source": [
    "grouped = filtered_df.groupby('dismissal')['strike_rate'].agg(['mean', 'median'])\n"
   ]
  },
  {
   "cell_type": "code",
   "execution_count": 8,
   "id": "3760b1d5-62b4-4e2e-985d-c1a8513f024c",
   "metadata": {},
   "outputs": [],
   "source": [
    "result = grouped.sort_values(by='mean', ascending=False)"
   ]
  },
  {
   "cell_type": "code",
   "execution_count": 9,
   "id": "b166fdbd-30e2-4478-b4c0-7f23d2198ada",
   "metadata": {},
   "outputs": [
    {
     "name": "stdout",
     "output_type": "stream",
     "text": [
      "Empty DataFrame\n",
      "Columns: [mean, median]\n",
      "Index: []\n"
     ]
    }
   ],
   "source": [
    "print(result)\n"
   ]
  },
  {
   "cell_type": "code",
   "execution_count": 10,
   "id": "899c8785-7145-433c-9bc1-2339e55cb2b9",
   "metadata": {},
   "outputs": [],
   "source": [
    "#cumpulsory2\n",
    "split_names = df['player'].str.split(' ', n=1, expand=True)\n",
    "df['First_Name'] = split_names[0]\n",
    "df['Last_Name'] = split_names[1].fillna('')"
   ]
  },
  {
   "cell_type": "code",
   "execution_count": 11,
   "id": "f7a84aca-6b13-4b28-8b9b-e07321c23353",
   "metadata": {},
   "outputs": [],
   "source": [
    "df['Full_Name'] = df['First_Name'] + ' ' + df['Last_Name']"
   ]
  },
  {
   "cell_type": "code",
   "execution_count": 12,
   "id": "00ea6ac5-cc84-483f-ab73-2f03672ea10c",
   "metadata": {},
   "outputs": [],
   "source": [
    "unique_counts = df.groupby('team')['Full_Name'].nunique()"
   ]
  },
  {
   "cell_type": "code",
   "execution_count": 13,
   "id": "17313edb-fee6-4daa-bd55-72850295534c",
   "metadata": {},
   "outputs": [
    {
     "name": "stdout",
     "output_type": "stream",
     "text": [
      "team\n",
      "Afghanistan     13\n",
      "Australia       14\n",
      "Bangladesh      15\n",
      "England         15\n",
      "India           13\n",
      "Netherlands     15\n",
      "New Zealand     14\n",
      "Pakistan        15\n",
      "South Africa    14\n",
      "Sri Lanka       18\n",
      "Name: Full_Name, dtype: int64\n"
     ]
    }
   ],
   "source": [
    "print(unique_counts)"
   ]
  },
  {
   "cell_type": "code",
   "execution_count": 14,
   "id": "adea092c-179a-4a61-b663-794403bd76e3",
   "metadata": {},
   "outputs": [],
   "source": [
    "#cumpolsory3\n",
    "df['runs_normalized'] = (df['runs'] - df['runs'].min()) / (df['runs'].max() - df['runs'].min())"
   ]
  },
  {
   "cell_type": "code",
   "execution_count": 15,
   "id": "74f41bf2-3033-439c-9d29-5cf0def19817",
   "metadata": {},
   "outputs": [],
   "source": [
    "df['strike_rate'] = pd.to_numeric(df['strike_rate'], errors='coerce')  # Ensure it's numeric\n",
    "median_sr = df['strike_rate'].median()\n",
    "df.loc[df['strike_rate'] < 0, 'strike_rate'] = median_sr"
   ]
  },
  {
   "cell_type": "code",
   "execution_count": 16,
   "id": "4efcbe05-3fb8-4d50-8c82-76eb05a59da0",
   "metadata": {},
   "outputs": [],
   "source": [
    "match_info = pd.DataFrame({\n",
    "    'match_id': df['match_id'].unique()[:5],  # match IDs from your dataset\n",
    "    'venue': ['Mumbai', 'Delhi', 'Kolkata', 'Chennai', 'Ahmedabad'],\n",
    "    'date': pd.date_range(start='2023-10-05', periods=5, freq='D')\n",
    "})\n"
   ]
  },
  {
   "cell_type": "code",
   "execution_count": 17,
   "id": "f979ce64-a758-4123-99d4-9ead4ca6db02",
   "metadata": {},
   "outputs": [],
   "source": [
    "merged_df = pd.merge(df, match_info, on='match_id', how='left')\n"
   ]
  },
  {
   "cell_type": "code",
   "execution_count": 18,
   "id": "00be58cd-f8f9-4118-9826-d2760e36d5d0",
   "metadata": {},
   "outputs": [
    {
     "data": {
      "text/html": [
       "<div>\n",
       "<style scoped>\n",
       "    .dataframe tbody tr th:only-of-type {\n",
       "        vertical-align: middle;\n",
       "    }\n",
       "\n",
       "    .dataframe tbody tr th {\n",
       "        vertical-align: top;\n",
       "    }\n",
       "\n",
       "    .dataframe thead th {\n",
       "        text-align: right;\n",
       "    }\n",
       "</style>\n",
       "<table border=\"1\" class=\"dataframe\">\n",
       "  <thead>\n",
       "    <tr style=\"text-align: right;\">\n",
       "      <th></th>\n",
       "      <th>player</th>\n",
       "      <th>dismissal</th>\n",
       "      <th>runs</th>\n",
       "      <th>balls</th>\n",
       "      <th>minutes</th>\n",
       "      <th>4s</th>\n",
       "      <th>6s</th>\n",
       "      <th>strike_rate</th>\n",
       "      <th>team</th>\n",
       "      <th>opponent</th>\n",
       "      <th>innings</th>\n",
       "      <th>match_id</th>\n",
       "      <th>First_Name</th>\n",
       "      <th>Last_Name</th>\n",
       "      <th>Full_Name</th>\n",
       "      <th>runs_normalized</th>\n",
       "      <th>venue</th>\n",
       "      <th>date</th>\n",
       "    </tr>\n",
       "  </thead>\n",
       "  <tbody>\n",
       "    <tr>\n",
       "      <th>0</th>\n",
       "      <td>Rohit Sharma</td>\n",
       "      <td>b Madushanka</td>\n",
       "      <td>4</td>\n",
       "      <td>2</td>\n",
       "      <td>2</td>\n",
       "      <td>1</td>\n",
       "      <td>0</td>\n",
       "      <td>200.00</td>\n",
       "      <td>India</td>\n",
       "      <td>Sri Lanka</td>\n",
       "      <td>1</td>\n",
       "      <td>0</td>\n",
       "      <td>Rohit</td>\n",
       "      <td>Sharma</td>\n",
       "      <td>Rohit Sharma</td>\n",
       "      <td>0.019900</td>\n",
       "      <td>Mumbai</td>\n",
       "      <td>2023-10-05</td>\n",
       "    </tr>\n",
       "    <tr>\n",
       "      <th>1</th>\n",
       "      <td>Shubman Gill</td>\n",
       "      <td>c Mendis b Madushanka</td>\n",
       "      <td>92</td>\n",
       "      <td>92</td>\n",
       "      <td>136</td>\n",
       "      <td>11</td>\n",
       "      <td>2</td>\n",
       "      <td>100.00</td>\n",
       "      <td>India</td>\n",
       "      <td>Sri Lanka</td>\n",
       "      <td>1</td>\n",
       "      <td>0</td>\n",
       "      <td>Shubman</td>\n",
       "      <td>Gill</td>\n",
       "      <td>Shubman Gill</td>\n",
       "      <td>0.457711</td>\n",
       "      <td>Mumbai</td>\n",
       "      <td>2023-10-05</td>\n",
       "    </tr>\n",
       "    <tr>\n",
       "      <th>2</th>\n",
       "      <td>Virat Kohli</td>\n",
       "      <td>c Nissanka b Madushanka</td>\n",
       "      <td>88</td>\n",
       "      <td>94</td>\n",
       "      <td>139</td>\n",
       "      <td>11</td>\n",
       "      <td>0</td>\n",
       "      <td>93.61</td>\n",
       "      <td>India</td>\n",
       "      <td>Sri Lanka</td>\n",
       "      <td>1</td>\n",
       "      <td>0</td>\n",
       "      <td>Virat</td>\n",
       "      <td>Kohli</td>\n",
       "      <td>Virat Kohli</td>\n",
       "      <td>0.437811</td>\n",
       "      <td>Mumbai</td>\n",
       "      <td>2023-10-05</td>\n",
       "    </tr>\n",
       "    <tr>\n",
       "      <th>3</th>\n",
       "      <td>Shreyas Iyer</td>\n",
       "      <td>c Theekshana b Madushanka</td>\n",
       "      <td>82</td>\n",
       "      <td>56</td>\n",
       "      <td>84</td>\n",
       "      <td>3</td>\n",
       "      <td>6</td>\n",
       "      <td>146.42</td>\n",
       "      <td>India</td>\n",
       "      <td>Sri Lanka</td>\n",
       "      <td>1</td>\n",
       "      <td>0</td>\n",
       "      <td>Shreyas</td>\n",
       "      <td>Iyer</td>\n",
       "      <td>Shreyas Iyer</td>\n",
       "      <td>0.407960</td>\n",
       "      <td>Mumbai</td>\n",
       "      <td>2023-10-05</td>\n",
       "    </tr>\n",
       "    <tr>\n",
       "      <th>4</th>\n",
       "      <td>KL Rahul</td>\n",
       "      <td>c Hemantha b Chameera</td>\n",
       "      <td>21</td>\n",
       "      <td>19</td>\n",
       "      <td>34</td>\n",
       "      <td>2</td>\n",
       "      <td>0</td>\n",
       "      <td>110.52</td>\n",
       "      <td>India</td>\n",
       "      <td>Sri Lanka</td>\n",
       "      <td>1</td>\n",
       "      <td>0</td>\n",
       "      <td>KL</td>\n",
       "      <td>Rahul</td>\n",
       "      <td>KL Rahul</td>\n",
       "      <td>0.104478</td>\n",
       "      <td>Mumbai</td>\n",
       "      <td>2023-10-05</td>\n",
       "    </tr>\n",
       "  </tbody>\n",
       "</table>\n",
       "</div>"
      ],
      "text/plain": [
       "         player                  dismissal  runs  balls  minutes  4s  6s  \\\n",
       "0  Rohit Sharma               b Madushanka     4      2        2   1   0   \n",
       "1  Shubman Gill      c Mendis b Madushanka    92     92      136  11   2   \n",
       "2   Virat Kohli    c Nissanka b Madushanka    88     94      139  11   0   \n",
       "3  Shreyas Iyer  c Theekshana b Madushanka    82     56       84   3   6   \n",
       "4      KL Rahul      c Hemantha b Chameera    21     19       34   2   0   \n",
       "\n",
       "   strike_rate   team   opponent  innings  match_id First_Name Last_Name  \\\n",
       "0       200.00  India  Sri Lanka        1         0      Rohit    Sharma   \n",
       "1       100.00  India  Sri Lanka        1         0    Shubman      Gill   \n",
       "2        93.61  India  Sri Lanka        1         0      Virat     Kohli   \n",
       "3       146.42  India  Sri Lanka        1         0    Shreyas      Iyer   \n",
       "4       110.52  India  Sri Lanka        1         0         KL     Rahul   \n",
       "\n",
       "      Full_Name  runs_normalized   venue       date  \n",
       "0  Rohit Sharma         0.019900  Mumbai 2023-10-05  \n",
       "1  Shubman Gill         0.457711  Mumbai 2023-10-05  \n",
       "2   Virat Kohli         0.437811  Mumbai 2023-10-05  \n",
       "3  Shreyas Iyer         0.407960  Mumbai 2023-10-05  \n",
       "4      KL Rahul         0.104478  Mumbai 2023-10-05  "
      ]
     },
     "execution_count": 18,
     "metadata": {},
     "output_type": "execute_result"
    }
   ],
   "source": [
    "merged_df.head()"
   ]
  },
  {
   "cell_type": "code",
   "execution_count": null,
   "id": "0f03b943-88af-4c93-b7b0-77df41dfb8e1",
   "metadata": {},
   "outputs": [],
   "source": []
  }
 ],
 "metadata": {
  "kernelspec": {
   "display_name": "Python 3 (ipykernel)",
   "language": "python",
   "name": "python3"
  },
  "language_info": {
   "codemirror_mode": {
    "name": "ipython",
    "version": 3
   },
   "file_extension": ".py",
   "mimetype": "text/x-python",
   "name": "python",
   "nbconvert_exporter": "python",
   "pygments_lexer": "ipython3",
   "version": "3.12.7"
  }
 },
 "nbformat": 4,
 "nbformat_minor": 5
}
